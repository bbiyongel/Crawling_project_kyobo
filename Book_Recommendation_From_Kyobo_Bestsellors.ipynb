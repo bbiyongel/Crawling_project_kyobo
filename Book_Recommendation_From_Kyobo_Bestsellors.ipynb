{
 "cells": [
  {
   "cell_type": "markdown",
   "metadata": {
    "slideshow": {
     "slide_type": "subslide"
    }
   },
   "source": [
    "### 교보문고 크롤링 프로젝트: 책 추천 시스템\n",
    "- 수집 사이트: 교보문고(www.kyobobook.co.kr), 서지정보센터\n",
    "- 수집 동기: 국내 최대 도서 유통 사이트의 베스트셀러 분석\n",
    "- 목표: 크롤링한 데이터를 데이터베이스에 저장 후 베스트셀러 분석 및 도서 추천 시스템 제공 \n",
    "\n",
    "- 가설: \n",
    "    - 1. 장르별로 책 사이즈가 다를 것이다\n",
    "    - 2. 주요 출판사일수록 리뷰 수가 많을 것이다\n",
    "    - 3. 소설 분야에서 가장 많은 세부장르는 한국문학일 것이다\n",
    "- 컬럼 소개:\n",
    "    - category : 카테고리(장르), \n",
    "    - ranking: 해당 카테고리 내 베스트셀러 순위, \n",
    "    - seogi_nl_clear: 국립중앙박물관 서지정보센터에 등록된 도서 장르 부가기호, \n",
    "    - ISBN: 국가에 등록된 도서 고유 번호\n",
    "    - title_x: 도서 제목, \n",
    "    - author: 저자 이름, \n",
    "    - publisher: 출판사, \n",
    "    - price_x: 가격, \n",
    "    - width, length, thick, weight: 가로(mm), 세로(mm), 두께(mm), 무게(g), \n",
    "    - page: 쪽 수, \n",
    "    - grade: 구매한 독자들이 남긴 점수의 총 점(각 1~5점), \n",
    "    - grade_count: 구매한 독자들이 남긴 리뷰 개수, \n",
    "    - summary_x: 출판사들이 교보문고에 제출한 책 소개, 저자 소개, 목차 텍스트 모음, \n",
    "    - review: 독자들이 남긴 리뷰 텍스트 모음"
   ]
  },
  {
   "cell_type": "code",
   "execution_count": 69,
   "metadata": {
    "slideshow": {
     "slide_type": "slide"
    }
   },
   "outputs": [],
   "source": [
    "import seaborn as sns\n",
    "import pandas as pd\n",
    "import re\n",
    "import matplotlib as mpl\n",
    "from matplotlib import rc\n",
    "#import missingno as msno\n",
    "import warnings\n",
    "import datetime\n",
    "import matplotlib.pyplot as plt\n",
    "#import statsmodels.api as sm\n",
    "warnings.filterwarnings('ignore')\n",
    "\n",
    "# matplotlib 한글 사용을 위한 코드\n",
    "rc('font', family='AppleGothic')\n",
    "mpl.rc('font', family='Hancom Gothic')\n",
    "mpl.rc('axes', unicode_minus=False)\n",
    "\n",
    "from IPython.display import Image\n",
    "\n",
    "#정규표현식\n",
    "import re\n",
    "import string"
   ]
  },
  {
   "cell_type": "markdown",
   "metadata": {
    "slideshow": {
     "slide_type": "slide"
    }
   },
   "source": [
    "### content 데이터 로딩"
   ]
  },
  {
   "cell_type": "code",
   "execution_count": 12,
   "metadata": {},
   "outputs": [],
   "source": [
    "#몽고db에서 크롤링한 데이터 가져오기\n",
    "import pymongo\n",
    "\n",
    "client = pymongo.MongoClient('mongodb://ID:PW@IP:PORT')\n",
    "db = client.kyobo\n",
    "collection = db.book"
   ]
  },
  {
   "cell_type": "code",
   "execution_count": 13,
   "metadata": {},
   "outputs": [],
   "source": [
    "df_book = pd.DataFrame(collection.find({}, {\"_id\": False}))"
   ]
  },
  {
   "cell_type": "code",
   "execution_count": 14,
   "metadata": {},
   "outputs": [
    {
     "data": {
      "text/plain": [
       "10245"
      ]
     },
     "execution_count": 14,
     "metadata": {},
     "output_type": "execute_result"
    }
   ],
   "source": [
    "len(df_book)"
   ]
  },
  {
   "cell_type": "code",
   "execution_count": 15,
   "metadata": {},
   "outputs": [],
   "source": [
    "df_book.to_csv('./Crwling_Kyobo_Content.csv')"
   ]
  },
  {
   "cell_type": "markdown",
   "metadata": {
    "slideshow": {
     "slide_type": "slide"
    }
   },
   "source": [
    "#### 전처리\n",
    "- 문자형에서 정수형으로 바꿀 컬럼: \n",
    "    - price: 원 제거\n",
    "    - page_count: 쪽 제거\n",
    "    - width: 가로 \n",
    "    - length: 세로\n",
    "    - thick: 두께, mm 제거\n",
    "    - weight: 무게, g 제거\n",
    "- 정수형에서 문자형으로 바꿀 컬럼: \n",
    "    - category"
   ]
  },
  {
   "cell_type": "code",
   "execution_count": 16,
   "metadata": {
    "slideshow": {
     "slide_type": "slide"
    }
   },
   "outputs": [],
   "source": [
    "# 중복된 데이터 거르기\n",
    "df_book =  pd.read_csv('./Crwling_Kyobo_Content.csv', index_col=0)\n",
    "df_book2 = df_book.drop_duplicates([\"ISBN\"], keep='last')\n",
    "df_book3 = df_book2.reset_index().drop('index', axis=1)"
   ]
  },
  {
   "cell_type": "code",
   "execution_count": 17,
   "metadata": {},
   "outputs": [
    {
     "data": {
      "text/plain": [
       "3952"
      ]
     },
     "execution_count": 17,
     "metadata": {},
     "output_type": "execute_result"
    }
   ],
   "source": [
    "len(df_book2)"
   ]
  },
  {
   "cell_type": "code",
   "execution_count": 18,
   "metadata": {},
   "outputs": [],
   "source": [
    "df_book3[\"publisher\"] = df_book3[\"publiser\"]"
   ]
  },
  {
   "cell_type": "code",
   "execution_count": 9,
   "metadata": {
    "slideshow": {
     "slide_type": "slide"
    }
   },
   "outputs": [],
   "source": [
    "#size컬럼에서 가로 * 세로 * 두께 * 무게를 각 컬럼으로 분리 한다\n",
    "widths = []\n",
    "lengths = []\n",
    "thicknesss = []\n",
    "weights = []\n",
    "for i in range(len(df_book3)):\n",
    "    width = df_book3[\"size\"][i][0:3]\n",
    "    length = df_book3[\"size\"][i][6:9]\n",
    "    thickness = df_book3[\"size\"][i][12:15]\n",
    "    weight = df_book3[\"size\"][i][19:]\n",
    "    \n",
    "    widths.append(width)\n",
    "    lengths.append(length)\n",
    "    thicknesss.append(thickness)\n",
    "    weights.append(weight)"
   ]
  },
  {
   "cell_type": "code",
   "execution_count": 10,
   "metadata": {},
   "outputs": [],
   "source": [
    "df_book3[\"width\"] = widths\n",
    "df_book3[\"length\"] = lengths\n",
    "df_book3[\"thick\"] = thicknesss\n",
    "df_book3[\"weight\"] = weights"
   ]
  },
  {
   "cell_type": "code",
   "execution_count": null,
   "metadata": {
    "slideshow": {
     "slide_type": "slide"
    }
   },
   "outputs": [],
   "source": [
    "# price 컬럼에서 단위 '원' 제거 \n",
    "prices = []\n",
    "for i in range(len(df_book3)):\n",
    "    price = df_book3[\"price\"][i][:-1]\n",
    "    prices.append(price)\n",
    "\n",
    "df_book3[\"price(원)\"] = prices"
   ]
  },
  {
   "cell_type": "code",
   "execution_count": null,
   "metadata": {},
   "outputs": [],
   "source": [
    "df_book3[\"price\"] = df_book3[\"price(원)\"]"
   ]
  },
  {
   "cell_type": "code",
   "execution_count": null,
   "metadata": {
    "slideshow": {
     "slide_type": "slide"
    }
   },
   "outputs": [],
   "source": [
    "# page_count 컬럼에서 단위 '쪽' 제거\n",
    "pages = []\n",
    "for i in range(len(df_book3)):\n",
    "    page = df_book3[\"page_count\"][i][:-1]\n",
    "    pages.append(page)\n",
    "\n",
    "df_book3[\"page(쪽)\"] = pages"
   ]
  },
  {
   "cell_type": "code",
   "execution_count": null,
   "metadata": {
    "slideshow": {
     "slide_type": "slide"
    }
   },
   "outputs": [],
   "source": [
    "# weight 컬럼에서 단위 'g' 제거\n",
    "weights = []\n",
    "for i in range(len(df_book3)):\n",
    "    weight = df_book3[\"weight\"][i][:-3]\n",
    "    weights.append(weight)\n",
    "\n",
    "df_book3[\"weight(g)\"] = weights"
   ]
  },
  {
   "cell_type": "code",
   "execution_count": null,
   "metadata": {},
   "outputs": [],
   "source": [
    "df_book3[\"weight\"] = df_book3[\"weight(g)\"]"
   ]
  },
  {
   "cell_type": "code",
   "execution_count": null,
   "metadata": {
    "slideshow": {
     "slide_type": "slide"
    }
   },
   "outputs": [],
   "source": [
    "# price 컬럼에서 실수형 변환을 위해 콤마(,) 삭제 \n",
    "df_book3[\"price\"] = df_book3[\"price\"].str.replace(\",\", \"\")"
   ]
  },
  {
   "cell_type": "code",
   "execution_count": null,
   "metadata": {},
   "outputs": [],
   "source": [
    "df_book3 = df_book3.fillna(0)"
   ]
  },
  {
   "cell_type": "code",
   "execution_count": null,
   "metadata": {},
   "outputs": [],
   "source": [
    "# thick은 너무 잘못된 게 많아서 버림\n",
    "#df_book3[\"thick\"].astype(int)"
   ]
  },
  {
   "cell_type": "code",
   "execution_count": null,
   "metadata": {},
   "outputs": [],
   "source": [
    "msno.matrix(df_book3, figsize=(16, 8))\n",
    "plt.show()"
   ]
  },
  {
   "cell_type": "code",
   "execution_count": null,
   "metadata": {
    "slideshow": {
     "slide_type": "slide"
    }
   },
   "outputs": [],
   "source": [
    "df_book3[\"width\"]= df_book3[[\"width\"]].astype(int)\n",
    "df_book3[\"length\"] = df_book3[[\"length\"]].astype(int)\n",
    "df_book3[\"price\"] = df_book3[\"price\"].astype(int)\n",
    "df_book3[\"page(쪽)\"] = df_book3[\"page(쪽)\"].astype(int)\n",
    "df_book3[\"weight\"] = df_book3[\"weight\"].astype(int)"
   ]
  },
  {
   "cell_type": "code",
   "execution_count": null,
   "metadata": {
    "slideshow": {
     "slide_type": "slide"
    }
   },
   "outputs": [],
   "source": [
    "columns = [\"category\", \"barcode\", \"title\", \"author\",  \"publisher\", \"size\", \"width\", \"length\", \"thick\", \"weight\", \"page(쪽)\",  \"price\", \"summary\"]\n",
    "df_book3 = df_book3[columns]\n",
    "df_book3"
   ]
  },
  {
   "cell_type": "code",
   "execution_count": null,
   "metadata": {},
   "outputs": [],
   "source": [
    "df_book3.info()"
   ]
  },
  {
   "cell_type": "code",
   "execution_count": null,
   "metadata": {},
   "outputs": [],
   "source": [
    "df_book3.describe()"
   ]
  },
  {
   "cell_type": "markdown",
   "metadata": {
    "slideshow": {
     "slide_type": "slide"
    }
   },
   "source": [
    "### review 데이터 로딩"
   ]
  },
  {
   "cell_type": "code",
   "execution_count": null,
   "metadata": {},
   "outputs": [],
   "source": [
    "import pymongo\n",
    "\n",
    "client = pymongo.MongoClient('mongodb://ID:PW@IP:PORT')\n",
    "db = client.kyobo\n",
    "collection2 = db.review"
   ]
  },
  {
   "cell_type": "code",
   "execution_count": null,
   "metadata": {},
   "outputs": [],
   "source": [
    "df_review = pd.DataFrame(collection2.find({}, {\"_id\": False}))"
   ]
  },
  {
   "cell_type": "code",
   "execution_count": null,
   "metadata": {},
   "outputs": [],
   "source": [
    "len(df_review)"
   ]
  },
  {
   "cell_type": "code",
   "execution_count": null,
   "metadata": {},
   "outputs": [],
   "source": [
    "df_review.isnull().sum()"
   ]
  },
  {
   "cell_type": "code",
   "execution_count": null,
   "metadata": {},
   "outputs": [],
   "source": [
    "msno.matrix(df_review, figsize=(16, 8))\n",
    "plt.show()"
   ]
  },
  {
   "cell_type": "markdown",
   "metadata": {
    "slideshow": {
     "slide_type": "slide"
    }
   },
   "source": [
    "#### 전처리\n",
    "- grade "
   ]
  },
  {
   "cell_type": "code",
   "execution_count": null,
   "metadata": {},
   "outputs": [],
   "source": [
    "df_review['grade'] = df_review['grade'].replace(\"\\n\", \"\").replace(\"\\t\", \"\").replace(\"\\n\\t\\t\\t\\t\\t                       \", \"\").replace(\"\", \"\").replace(\"'\", \"\")\n",
    "df_review['grade'] = df_review['grade'].fillna(0)\n",
    "df_review.to_csv(\"./df_review_temp.csv\")\n",
    "df_review = pd.read_csv(\"./df_review_temp.csv\", encoding=\"utf-8\", index_col=0)"
   ]
  },
  {
   "cell_type": "code",
   "execution_count": null,
   "metadata": {
    "slideshow": {
     "slide_type": "slide"
    }
   },
   "outputs": [],
   "source": [
    "grade_ints =  []\n",
    "\n",
    "for i in range(len(df_review)):\n",
    "    grade_int = int(df_review['grade'][i])\n",
    "    grade_ints.append(grade_int)\n",
    "    \n",
    "grade_ints"
   ]
  },
  {
   "cell_type": "code",
   "execution_count": null,
   "metadata": {
    "slideshow": {
     "slide_type": "slide"
    }
   },
   "outputs": [],
   "source": [
    "df_review['grade'].astype(int)"
   ]
  },
  {
   "cell_type": "code",
   "execution_count": null,
   "metadata": {},
   "outputs": [],
   "source": [
    "df_review['grade_count'] = df_review['grade']"
   ]
  },
  {
   "cell_type": "code",
   "execution_count": null,
   "metadata": {},
   "outputs": [],
   "source": [
    "joined_df_review = df_review.groupby('ISBN').agg({'grade_count' : 'count','grade' : 'sum', 'review' : lambda x : ' '.join(x)})"
   ]
  },
  {
   "cell_type": "code",
   "execution_count": null,
   "metadata": {},
   "outputs": [],
   "source": [
    "joined_df_review"
   ]
  },
  {
   "cell_type": "code",
   "execution_count": null,
   "metadata": {
    "slideshow": {
     "slide_type": "slide"
    }
   },
   "outputs": [],
   "source": [
    "joined_df_review_temp = joined_df_review.grade.reset_index(name = \"grade\")\n",
    "joined_df_review_temp[\"review\"] = joined_df_review[\"review\"].reset_index(name = \"review\").review\n",
    "joined_df_review_temp[\"grade_count\"] = joined_df_review[\"grade_count\"].reset_index(name = \"grade_count\").grade_count\n",
    "joined_df_review_temp"
   ]
  },
  {
   "cell_type": "code",
   "execution_count": null,
   "metadata": {},
   "outputs": [],
   "source": [
    "len(joined_df_review_temp)"
   ]
  },
  {
   "cell_type": "code",
   "execution_count": null,
   "metadata": {},
   "outputs": [],
   "source": [
    "joined_df_review_temp.columns"
   ]
  },
  {
   "cell_type": "markdown",
   "metadata": {
    "slideshow": {
     "slide_type": "slide"
    }
   },
   "source": [
    "### 서지정보센터 부가기호 데이터 수집"
   ]
  },
  {
   "cell_type": "code",
   "execution_count": null,
   "metadata": {},
   "outputs": [],
   "source": [
    "df_seogi_num = pd.read_csv(\"./seogi_num.csv\", index_col=0)\n",
    "df_seogi_num"
   ]
  },
  {
   "cell_type": "code",
   "execution_count": null,
   "metadata": {},
   "outputs": [],
   "source": [
    "seogis = []\n",
    "\n",
    "for i in range(len(df_seogi_num)):\n",
    "    seogi = df_seogi_num[\"seogi_nl\"][i][-6:-1]\n",
    "    re.findall(\"[0-9]{5}\", seogi)\n",
    "\n",
    "    seogis.append(seogi)"
   ]
  },
  {
   "cell_type": "code",
   "execution_count": null,
   "metadata": {},
   "outputs": [],
   "source": [
    "df_seogi_num[\"seogi_nl_clear\"] = seogis"
   ]
  },
  {
   "cell_type": "code",
   "execution_count": null,
   "metadata": {},
   "outputs": [],
   "source": [
    "df_seogi_num"
   ]
  },
  {
   "cell_type": "markdown",
   "metadata": {},
   "source": [
    "### 베스트셀러 등수 데이터 수집"
   ]
  },
  {
   "cell_type": "code",
   "execution_count": null,
   "metadata": {
    "slideshow": {
     "slide_type": "slide"
    }
   },
   "outputs": [],
   "source": [
    "df_rankings = pd.read_csv(\"./Kyobo_Crawling_ranking.csv\", index_col=0)\n",
    "df_rankings.reset_index(inplace=False)\n",
    "df_rankings"
   ]
  },
  {
   "cell_type": "code",
   "execution_count": null,
   "metadata": {},
   "outputs": [],
   "source": [
    "df_book3[\"ISBN\"] = df_book3[\"barcode\"]"
   ]
  },
  {
   "cell_type": "markdown",
   "metadata": {
    "slideshow": {
     "slide_type": "slide"
    }
   },
   "source": [
    "### 최종 데이터 합치기\n",
    "- content 데이터\n",
    "- review 데이터\n",
    "- 서지정보센터 부가기호 데이터\n",
    "- 베스트셀러 카테고리별 순위"
   ]
  },
  {
   "cell_type": "code",
   "execution_count": null,
   "metadata": {
    "slideshow": {
     "slide_type": "slide"
    }
   },
   "outputs": [],
   "source": [
    "mergedStuff = pd.merge(df_book3, df_seogi_num, on=['ISBN'], how='inner')\n",
    "df_bestsellors = pd.merge(mergedStuff, joined_df_review_temp, on=['ISBN'], how='inner')\n"
   ]
  },
  {
   "cell_type": "code",
   "execution_count": null,
   "metadata": {},
   "outputs": [],
   "source": [
    "df_bestsellor2 = pd.merge(df_bestsellors,df_rankings, on=['ISBN'], how='inner')\n",
    "df_bestsellor3 = pd.merge(df_bestsellor2, df_book2, on=[\"ISBN\"], how='inner')\n"
   ]
  },
  {
   "cell_type": "code",
   "execution_count": null,
   "metadata": {},
   "outputs": [],
   "source": [
    "columns = [\"category\", \"ranking\", \"seogi_nl_clear\", \"ISBN\", \"title_x\", \"author\", \"publisher\", \"price_x\",\n",
    "           \"width\", \"length\", \"thick\", \"weight\", \"page(쪽)\", \"grade\", \"grade_count\", \"summary_x\", \"review\"]\n",
    "\n",
    "df_final_bestsellors = df_bestsellor3[columns]"
   ]
  },
  {
   "cell_type": "code",
   "execution_count": null,
   "metadata": {
    "slideshow": {
     "slide_type": "slide"
    }
   },
   "outputs": [],
   "source": [
    "df_final_bestsellors['category'] = df_final_bestsellors['category'].astype(str)"
   ]
  },
  {
   "cell_type": "code",
   "execution_count": 37,
   "metadata": {},
   "outputs": [],
   "source": [
    "df_final_bestsellors = pd.read_csv(\"./df_final_bestsellors_ML.csv\", index_col=0)"
   ]
  },
  {
   "cell_type": "code",
   "execution_count": 38,
   "metadata": {},
   "outputs": [
    {
     "name": "stdout",
     "output_type": "stream",
     "text": [
      "<class 'pandas.core.frame.DataFrame'>\n",
      "Int64Index: 1507 entries, 0 to 1506\n",
      "Data columns (total 18 columns):\n",
      " #   Column          Non-Null Count  Dtype  \n",
      "---  ------          --------------  -----  \n",
      " 0   category        1507 non-null   int64  \n",
      " 1   ranking         1507 non-null   int64  \n",
      " 2   seogi_nl_clear  1484 non-null   object \n",
      " 3   ISBN            1507 non-null   int64  \n",
      " 4   title_x         1507 non-null   object \n",
      " 5   author          1507 non-null   object \n",
      " 6   publisher       1507 non-null   object \n",
      " 7   price_x         1507 non-null   int64  \n",
      " 8   width           1507 non-null   int64  \n",
      " 9   length          1507 non-null   int64  \n",
      " 10  thick           1507 non-null   object \n",
      " 11  weight          1507 non-null   int64  \n",
      " 12  page(쪽)         1507 non-null   int64  \n",
      " 13  grade           1507 non-null   float64\n",
      " 14  grade_count     1507 non-null   int64  \n",
      " 15  summary_x       1507 non-null   object \n",
      " 16  review          1507 non-null   object \n",
      " 17  corpus          1507 non-null   object \n",
      "dtypes: float64(1), int64(9), object(8)\n",
      "memory usage: 223.7+ KB\n"
     ]
    }
   ],
   "source": [
    "df_final_bestsellors.info()"
   ]
  },
  {
   "cell_type": "code",
   "execution_count": null,
   "metadata": {},
   "outputs": [],
   "source": []
  },
  {
   "cell_type": "code",
   "execution_count": null,
   "metadata": {},
   "outputs": [],
   "source": []
  },
  {
   "cell_type": "markdown",
   "metadata": {
    "slideshow": {
     "slide_type": "slide"
    }
   },
   "source": [
    "## 데이터 분석\n",
    "## 가설:\n",
    "- 장르별로 책 사이즈가 다를 것이다\n",
    "- 주요 출판사일수록 많은 리뷰 수를 가질 것이다\n",
    "- 소설분야 부가기호 기준 가장 많은 세부 장르는 한국소설일 것이다"
   ]
  },
  {
   "cell_type": "code",
   "execution_count": null,
   "metadata": {},
   "outputs": [],
   "source": []
  },
  {
   "cell_type": "code",
   "execution_count": null,
   "metadata": {},
   "outputs": [],
   "source": []
  },
  {
   "cell_type": "markdown",
   "metadata": {
    "slideshow": {
     "slide_type": "slide"
    }
   },
   "source": [
    "### 가설1 : 장르별로 책 사이즈가 다를 것이다"
   ]
  },
  {
   "cell_type": "code",
   "execution_count": 33,
   "metadata": {
    "slideshow": {
     "slide_type": "slide"
    }
   },
   "outputs": [],
   "source": [
    "y = final_top3_df[\"category\"]\n",
    "X = final_top3_df[[\"width\", \"length\"]]"
   ]
  },
  {
   "cell_type": "code",
   "execution_count": 34,
   "metadata": {
    "slideshow": {
     "slide_type": "slide"
    }
   },
   "outputs": [
    {
     "data": {
      "text/plain": [
       "<Figure size 1728x1152 with 0 Axes>"
      ]
     },
     "metadata": {},
     "output_type": "display_data"
    },
    {
     "data": {
      "image/png": "[encoded data removed]",
      "text/plain": [
       "<Figure size 432x288 with 1 Axes>"
      ]
     },
     "metadata": {
      "image/png": {
       "height": 290,
       "width": 398
      },
      "needs_background": "light"
     },
     "output_type": "display_data"
    }
   ],
   "source": [
    "groups = final_top3_df.groupby('category')\n",
    "plt.figure(figsize=(24,16))\n",
    "fig, ax = plt.subplots()\n",
    "for name, group in groups:\n",
    "    ax.plot(group.width,\n",
    "           group.length,\n",
    "           marker='x',\n",
    "           linestyle='',\n",
    "           label=name)\n",
    "    \n",
    "#ax.legned(fontsize=12, loc='uppter left')\n",
    "plt.title('Scatter Plot of book matplotlib', fontsize=20)\n",
    "plt.xlabel('Width', fontsize=14)\n",
    "plt.ylabel('Length', fontsize=14)\n",
    "plt.show()"
   ]
  },
  {
   "cell_type": "markdown",
   "metadata": {
    "slideshow": {
     "slide_type": "slide"
    }
   },
   "source": [
    "### 증명 1: 에세이, 인문, 소설 간에는 사이즈가 크게 중요하지 않다\n",
    "#### 주로 책 제작 사이즈는 130-160 * 190-220"
   ]
  },
  {
   "cell_type": "code",
   "execution_count": null,
   "metadata": {},
   "outputs": [],
   "source": []
  },
  {
   "cell_type": "code",
   "execution_count": null,
   "metadata": {},
   "outputs": [],
   "source": []
  },
  {
   "cell_type": "markdown",
   "metadata": {
    "slideshow": {
     "slide_type": "slide"
    }
   },
   "source": [
    "### 가설 2: 주요 출판사일수록 많은 리뷰 수를 가질 것이다"
   ]
  },
  {
   "cell_type": "markdown",
   "metadata": {
    "slideshow": {
     "slide_type": "slide"
    }
   },
   "source": [
    "### 출판사 순위\n",
    "#### 2018년 매출액 기준\n",
    "- 1위 위즈덤하우스미디어그룹 :  339억원(전년 대비 22.3% 증가)\n",
    "- 2위 시공사 : 262억원\n",
    "- 3위 문학동네 : 253억원\n",
    "- 4위 북이십일 : 249억원\n",
    "- 5위 김영사 : 215억원\n",
    "#### 2018년 영업이익 기준\n",
    "- 1위 민음사 : 38억원(영업이익률 : 23.6%)\n",
    "- 2위 웅진씽크빅(단행본) : 27억원\n",
    "- 3위 북이십일 :  26억원\n",
    "- 4위 문학동네 : 21억 8000만원\n",
    "- 5위 도서출판 길벗 : 21억 3000만원\n",
    "    \n",
    "#### 69개 출판사의 지난해 총매출액 :  5조 528억원(전년대비 0.9%, 457억원 증가)\n",
    "- 10곳 중 4곳은 매출 감소\n",
    "- 학습지 부문에서 마이너스 성장(-3.2%)\n",
    "- **위즈덤하우스미디어그룹 매출 1위였지만 영업적자도 19억원으로 1위**\n",
    "\n"
   ]
  },
  {
   "cell_type": "markdown",
   "metadata": {
    "slideshow": {
     "slide_type": "slide"
    }
   },
   "source": []
  },
  {
   "cell_type": "code",
   "execution_count": 65,
   "metadata": {},
   "outputs": [],
   "source": [
    "df_final_bestsellors = pd.read_csv(\"./df_final_bestsellors.csv\")"
   ]
  },
  {
   "cell_type": "code",
   "execution_count": 66,
   "metadata": {},
   "outputs": [],
   "source": [
    "df_novel = df_final_bestsellors[df_final_bestsellors[\"category\"] == 1]"
   ]
  },
  {
   "cell_type": "code",
   "execution_count": 67,
   "metadata": {},
   "outputs": [
    {
     "data": {
      "text/plain": [
       "44"
      ]
     },
     "execution_count": 67,
     "metadata": {},
     "output_type": "execute_result"
    }
   ],
   "source": [
    "len(df_novel[\"publisher\"].unique())"
   ]
  },
  {
   "cell_type": "code",
   "execution_count": 70,
   "metadata": {
    "slideshow": {
     "slide_type": "slide"
    }
   },
   "outputs": [
    {
     "data": {
      "image/png": "[encoded data removed]",
      "text/plain": [
       "<Figure size 1728x720 with 1 Axes>"
      ]
     },
     "metadata": {
      "image/png": {
       "height": 591,
       "width": 1395
      },
      "needs_background": "light"
     },
     "output_type": "display_data"
    }
   ],
   "source": [
    "dist_publisher_novel = df_novel.reset_index().drop('index', axis=1)\n",
    "plt.figure(figsize=(24, 10))\n",
    "sns.countplot(x='publisher', data=dist_publisher_novel)\n",
    "plt.show()"
   ]
  },
  {
   "cell_type": "code",
   "execution_count": 44,
   "metadata": {
    "slideshow": {
     "slide_type": "slide"
    }
   },
   "outputs": [
    {
     "data": {
      "text/html": [
       "<div>\n",
       "<style scoped>\n",
       "    .dataframe tbody tr th:only-of-type {\n",
       "        vertical-align: middle;\n",
       "    }\n",
       "\n",
       "    .dataframe tbody tr th {\n",
       "        vertical-align: top;\n",
       "    }\n",
       "\n",
       "    .dataframe thead th {\n",
       "        text-align: right;\n",
       "    }\n",
       "</style>\n",
       "<table border=\"1\" class=\"dataframe\">\n",
       "  <thead>\n",
       "    <tr style=\"text-align: right;\">\n",
       "      <th></th>\n",
       "      <th>publisher</th>\n",
       "      <th>count</th>\n",
       "    </tr>\n",
       "  </thead>\n",
       "  <tbody>\n",
       "    <tr>\n",
       "      <th>0</th>\n",
       "      <td>민음사</td>\n",
       "      <td>21</td>\n",
       "    </tr>\n",
       "    <tr>\n",
       "      <th>1</th>\n",
       "      <td>문학동네</td>\n",
       "      <td>15</td>\n",
       "    </tr>\n",
       "    <tr>\n",
       "      <th>2</th>\n",
       "      <td>창비</td>\n",
       "      <td>13</td>\n",
       "    </tr>\n",
       "    <tr>\n",
       "      <th>3</th>\n",
       "      <td>재인</td>\n",
       "      <td>4</td>\n",
       "    </tr>\n",
       "    <tr>\n",
       "      <th>4</th>\n",
       "      <td>더스토리</td>\n",
       "      <td>4</td>\n",
       "    </tr>\n",
       "  </tbody>\n",
       "</table>\n",
       "</div>"
      ],
      "text/plain": [
       "  publisher  count\n",
       "0       민음사     21\n",
       "1      문학동네     15\n",
       "2        창비     13\n",
       "3        재인      4\n",
       "4      더스토리      4"
      ]
     },
     "execution_count": 44,
     "metadata": {},
     "output_type": "execute_result"
    }
   ],
   "source": [
    "df_publisher = df_novel.groupby('publisher').size().reset_index()\n",
    "df_publisher = df_publisher.rename(columns={0:'count'})\n",
    "df_publisher_sort = df_publisher.sort_values('count', ascending=False)\n",
    "df_publisher_sort = df_publisher_sort.reset_index().drop('index', axis=1)\n",
    "df_publisher_sort.head(5)"
   ]
  },
  {
   "cell_type": "code",
   "execution_count": 45,
   "metadata": {},
   "outputs": [
    {
     "data": {
      "text/html": [
       "<div>\n",
       "<style scoped>\n",
       "    .dataframe tbody tr th:only-of-type {\n",
       "        vertical-align: middle;\n",
       "    }\n",
       "\n",
       "    .dataframe tbody tr th {\n",
       "        vertical-align: top;\n",
       "    }\n",
       "\n",
       "    .dataframe thead th {\n",
       "        text-align: right;\n",
       "    }\n",
       "</style>\n",
       "<table border=\"1\" class=\"dataframe\">\n",
       "  <thead>\n",
       "    <tr style=\"text-align: right;\">\n",
       "      <th></th>\n",
       "      <th>count</th>\n",
       "    </tr>\n",
       "  </thead>\n",
       "  <tbody>\n",
       "    <tr>\n",
       "      <th>count</th>\n",
       "      <td>44.000000</td>\n",
       "    </tr>\n",
       "    <tr>\n",
       "      <th>mean</th>\n",
       "      <td>2.500000</td>\n",
       "    </tr>\n",
       "    <tr>\n",
       "      <th>std</th>\n",
       "      <td>3.979599</td>\n",
       "    </tr>\n",
       "    <tr>\n",
       "      <th>min</th>\n",
       "      <td>1.000000</td>\n",
       "    </tr>\n",
       "    <tr>\n",
       "      <th>25%</th>\n",
       "      <td>1.000000</td>\n",
       "    </tr>\n",
       "    <tr>\n",
       "      <th>50%</th>\n",
       "      <td>1.000000</td>\n",
       "    </tr>\n",
       "    <tr>\n",
       "      <th>75%</th>\n",
       "      <td>2.000000</td>\n",
       "    </tr>\n",
       "    <tr>\n",
       "      <th>max</th>\n",
       "      <td>21.000000</td>\n",
       "    </tr>\n",
       "  </tbody>\n",
       "</table>\n",
       "</div>"
      ],
      "text/plain": [
       "           count\n",
       "count  44.000000\n",
       "mean    2.500000\n",
       "std     3.979599\n",
       "min     1.000000\n",
       "25%     1.000000\n",
       "50%     1.000000\n",
       "75%     2.000000\n",
       "max    21.000000"
      ]
     },
     "execution_count": 45,
     "metadata": {},
     "output_type": "execute_result"
    }
   ],
   "source": [
    "df_publisher_sort.describe()"
   ]
  },
  {
   "cell_type": "code",
   "execution_count": 46,
   "metadata": {
    "slideshow": {
     "slide_type": "slide"
    }
   },
   "outputs": [
    {
     "data": {
      "image/png": "[encoded data removed]",
      "text/plain": [
       "<Figure size 1008x360 with 1 Axes>"
      ]
     },
     "metadata": {
      "image/png": {
       "height": 319,
       "width": 829
      },
      "needs_background": "light"
     },
     "output_type": "display_data"
    }
   ],
   "source": [
    "plt.figure(figsize=(14, 5))\n",
    "\n",
    "sns.countplot(y='count', data=df_publisher_sort)\n",
    "\n",
    "plt.show()"
   ]
  },
  {
   "cell_type": "code",
   "execution_count": 47,
   "metadata": {
    "slideshow": {
     "slide_type": "slide"
    }
   },
   "outputs": [
    {
     "data": {
      "text/plain": [
       "29"
      ]
     },
     "execution_count": 47,
     "metadata": {},
     "output_type": "execute_result"
    }
   ],
   "source": [
    "# 베스트셀러 순위에 1개 밖에 못 올린 출판사 개수 29개\n",
    "len(df_publisher_sort[df_publisher_sort[\"count\"] == 1])"
   ]
  },
  {
   "cell_type": "code",
   "execution_count": 49,
   "metadata": {},
   "outputs": [
    {
     "data": {
      "text/plain": [
       "6"
      ]
     },
     "execution_count": 49,
     "metadata": {},
     "output_type": "execute_result"
    }
   ],
   "source": [
    "# 베스트셀러 순위에 2개 밖에 못 올린 출판사 개수 6개\n",
    "len(df_publisher_sort[df_publisher_sort[\"count\"] == 2])"
   ]
  },
  {
   "cell_type": "code",
   "execution_count": 54,
   "metadata": {},
   "outputs": [
    {
     "data": {
      "text/html": [
       "<div>\n",
       "<style scoped>\n",
       "    .dataframe tbody tr th:only-of-type {\n",
       "        vertical-align: middle;\n",
       "    }\n",
       "\n",
       "    .dataframe tbody tr th {\n",
       "        vertical-align: top;\n",
       "    }\n",
       "\n",
       "    .dataframe thead th {\n",
       "        text-align: right;\n",
       "    }\n",
       "</style>\n",
       "<table border=\"1\" class=\"dataframe\">\n",
       "  <thead>\n",
       "    <tr style=\"text-align: right;\">\n",
       "      <th></th>\n",
       "      <th>publisher</th>\n",
       "      <th>count</th>\n",
       "    </tr>\n",
       "  </thead>\n",
       "  <tbody>\n",
       "    <tr>\n",
       "      <th>3</th>\n",
       "      <td>재인</td>\n",
       "      <td>4</td>\n",
       "    </tr>\n",
       "    <tr>\n",
       "      <th>4</th>\n",
       "      <td>더스토리</td>\n",
       "      <td>4</td>\n",
       "    </tr>\n",
       "  </tbody>\n",
       "</table>\n",
       "</div>"
      ],
      "text/plain": [
       "  publisher  count\n",
       "3        재인      4\n",
       "4      더스토리      4"
      ]
     },
     "execution_count": 54,
     "metadata": {},
     "output_type": "execute_result"
    }
   ],
   "source": [
    "# 베스트셀러 순위에 2개 올린 출판사 개수 3개\n",
    "df_publisher_sort[df_publisher_sort[\"count\"] == 4]"
   ]
  },
  {
   "cell_type": "code",
   "execution_count": 53,
   "metadata": {
    "slideshow": {
     "slide_type": "slide"
    }
   },
   "outputs": [
    {
     "data": {
      "text/html": [
       "<div>\n",
       "<style scoped>\n",
       "    .dataframe tbody tr th:only-of-type {\n",
       "        vertical-align: middle;\n",
       "    }\n",
       "\n",
       "    .dataframe tbody tr th {\n",
       "        vertical-align: top;\n",
       "    }\n",
       "\n",
       "    .dataframe thead th {\n",
       "        text-align: right;\n",
       "    }\n",
       "</style>\n",
       "<table border=\"1\" class=\"dataframe\">\n",
       "  <thead>\n",
       "    <tr style=\"text-align: right;\">\n",
       "      <th></th>\n",
       "      <th>category</th>\n",
       "      <th>ranking</th>\n",
       "      <th>seogi_nl_clear</th>\n",
       "      <th>ISBN</th>\n",
       "      <th>title_x</th>\n",
       "      <th>author</th>\n",
       "      <th>publisher</th>\n",
       "      <th>price_x</th>\n",
       "      <th>width</th>\n",
       "      <th>length</th>\n",
       "      <th>thick</th>\n",
       "      <th>weight</th>\n",
       "      <th>page(쪽)</th>\n",
       "      <th>grade</th>\n",
       "      <th>grade_count</th>\n",
       "      <th>summary_x</th>\n",
       "      <th>review</th>\n",
       "      <th>corpus</th>\n",
       "    </tr>\n",
       "  </thead>\n",
       "  <tbody>\n",
       "    <tr>\n",
       "      <th>187</th>\n",
       "      <td>1</td>\n",
       "      <td>127</td>\n",
       "      <td>03810</td>\n",
       "      <td>9791164452323</td>\n",
       "      <td>한중록(1795년 오리지널 초판본 표지디자인)</td>\n",
       "      <td>혜경궁 홍씨</td>\n",
       "      <td>더스토리</td>\n",
       "      <td>14800</td>\n",
       "      <td>135</td>\n",
       "      <td>194</td>\n",
       "      <td>39</td>\n",
       "      <td>539</td>\n",
       "      <td>400</td>\n",
       "      <td>4.0</td>\n",
       "      <td>1</td>\n",
       "      <td>[내용 소개]왕이 되었으면 가장 위대했을 군주 사도세자와 영조와의 갈등,화려한 조선...</td>\n",
       "      <td>좋아요~~</td>\n",
       "      <td>[내용 소개]왕이 되었으면 가장 위대했을 군주 사도세자와 영조와의 갈등,화려한 조선...</td>\n",
       "    </tr>\n",
       "    <tr>\n",
       "      <th>292</th>\n",
       "      <td>1</td>\n",
       "      <td>85</td>\n",
       "      <td>03860</td>\n",
       "      <td>9791159039690</td>\n",
       "      <td>어린왕자(초판본)(1943년 오리지널 초판본 표지디자인)</td>\n",
       "      <td>생텍쥐페리</td>\n",
       "      <td>더스토리</td>\n",
       "      <td>9800</td>\n",
       "      <td>136</td>\n",
       "      <td>195</td>\n",
       "      <td>17</td>\n",
       "      <td>280</td>\n",
       "      <td>150</td>\n",
       "      <td>56.0</td>\n",
       "      <td>14</td>\n",
       "      <td>세상에서 가장 순수한 영혼, 《어린 왕자》 오리지널 초판본 표지디자인!생텍쥐페리는 ...</td>\n",
       "      <td>지금 읽으면 또 다른 느낌일 것 같아요. 마저영 다시 읽어봐도 좋은 소설 아름다운 ...</td>\n",
       "      <td>세상에서 가장 순수한 영혼, 《어린 왕자》 오리지널 초판본 표지디자인!생텍쥐페리는 ...</td>\n",
       "    </tr>\n",
       "    <tr>\n",
       "      <th>337</th>\n",
       "      <td>1</td>\n",
       "      <td>30</td>\n",
       "      <td>03860</td>\n",
       "      <td>9791164452125</td>\n",
       "      <td>페스트(초판본)(1947년 오리지널 초판본 표지디자인)</td>\n",
       "      <td>알베르 카뮈</td>\n",
       "      <td>더스토리</td>\n",
       "      <td>13800</td>\n",
       "      <td>133</td>\n",
       "      <td>196</td>\n",
       "      <td>32</td>\n",
       "      <td>557</td>\n",
       "      <td>432</td>\n",
       "      <td>60.0</td>\n",
       "      <td>17</td>\n",
       "      <td>《페스트》는 《이방인》 《시시포스의 신화》 등으로 널리 알려진, 노벨 문학상 수상 ...</td>\n",
       "      <td>재미있고 좋은 책입니다. 현상황에 어울리는 책이네요 코로나19로인한 대한민국의 위기...</td>\n",
       "      <td>《페스트》는 《이방인》 《시시포스의 신화》 등으로 널리 알려진, 노벨 문학상 수상 ...</td>\n",
       "    </tr>\n",
       "    <tr>\n",
       "      <th>349</th>\n",
       "      <td>1</td>\n",
       "      <td>8</td>\n",
       "      <td>03850</td>\n",
       "      <td>9791159036514</td>\n",
       "      <td>데미안(리커버 한정판)(초판본)(1919년 오리지널 초판본 패브릭 에디션)</td>\n",
       "      <td>헤르만 헤세</td>\n",
       "      <td>더스토리</td>\n",
       "      <td>12000</td>\n",
       "      <td>136</td>\n",
       "      <td>196</td>\n",
       "      <td>22</td>\n",
       "      <td>409</td>\n",
       "      <td>248</td>\n",
       "      <td>212.0</td>\n",
       "      <td>54</td>\n",
       "      <td>20세기 독일 문학가들 가운데 우리나라 독자들에게 가장 잘 알려진 작가를 꼽으라고 ...</td>\n",
       "      <td>청소년기에 내가 읽던 책을 아이도 읽네요.\\r\\n자아찾기.청소년기 필독서 어린 시절...</td>\n",
       "      <td>20세기 독일 문학가들 가운데 우리나라 독자들에게 가장 잘 알려진 작가를 꼽으라고 ...</td>\n",
       "    </tr>\n",
       "  </tbody>\n",
       "</table>\n",
       "</div>"
      ],
      "text/plain": [
       "     category  ranking seogi_nl_clear           ISBN  \\\n",
       "187         1      127          03810  9791164452323   \n",
       "292         1       85          03860  9791159039690   \n",
       "337         1       30          03860  9791164452125   \n",
       "349         1        8          03850  9791159036514   \n",
       "\n",
       "                                       title_x  author publisher  price_x  \\\n",
       "187                  한중록(1795년 오리지널 초판본 표지디자인)  혜경궁 홍씨      더스토리    14800   \n",
       "292            어린왕자(초판본)(1943년 오리지널 초판본 표지디자인)   생텍쥐페리      더스토리     9800   \n",
       "337             페스트(초판본)(1947년 오리지널 초판본 표지디자인)  알베르 카뮈      더스토리    13800   \n",
       "349  데미안(리커버 한정판)(초판본)(1919년 오리지널 초판본 패브릭 에디션)  헤르만 헤세      더스토리    12000   \n",
       "\n",
       "     width  length thick  weight  page(쪽)  grade  grade_count  \\\n",
       "187    135     194   39      539      400    4.0            1   \n",
       "292    136     195   17      280      150   56.0           14   \n",
       "337    133     196   32      557      432   60.0           17   \n",
       "349    136     196   22      409      248  212.0           54   \n",
       "\n",
       "                                             summary_x  \\\n",
       "187  [내용 소개]왕이 되었으면 가장 위대했을 군주 사도세자와 영조와의 갈등,화려한 조선...   \n",
       "292  세상에서 가장 순수한 영혼, 《어린 왕자》 오리지널 초판본 표지디자인!생텍쥐페리는 ...   \n",
       "337  《페스트》는 《이방인》 《시시포스의 신화》 등으로 널리 알려진, 노벨 문학상 수상 ...   \n",
       "349  20세기 독일 문학가들 가운데 우리나라 독자들에게 가장 잘 알려진 작가를 꼽으라고 ...   \n",
       "\n",
       "                                                review  \\\n",
       "187                                              좋아요~~   \n",
       "292  지금 읽으면 또 다른 느낌일 것 같아요. 마저영 다시 읽어봐도 좋은 소설 아름다운 ...   \n",
       "337  재미있고 좋은 책입니다. 현상황에 어울리는 책이네요 코로나19로인한 대한민국의 위기...   \n",
       "349  청소년기에 내가 읽던 책을 아이도 읽네요.\\r\\n자아찾기.청소년기 필독서 어린 시절...   \n",
       "\n",
       "                                                corpus  \n",
       "187  [내용 소개]왕이 되었으면 가장 위대했을 군주 사도세자와 영조와의 갈등,화려한 조선...  \n",
       "292  세상에서 가장 순수한 영혼, 《어린 왕자》 오리지널 초판본 표지디자인!생텍쥐페리는 ...  \n",
       "337  《페스트》는 《이방인》 《시시포스의 신화》 등으로 널리 알려진, 노벨 문학상 수상 ...  \n",
       "349  20세기 독일 문학가들 가운데 우리나라 독자들에게 가장 잘 알려진 작가를 꼽으라고 ...  "
      ]
     },
     "execution_count": 53,
     "metadata": {},
     "output_type": "execute_result"
    }
   ],
   "source": [
    "# 고전 소설을 작은 사이즈로 제작, 인기\n",
    "df_novel[df_novel[\"publisher\"] == \"더스토리\"]"
   ]
  },
  {
   "cell_type": "code",
   "execution_count": 55,
   "metadata": {
    "slideshow": {
     "slide_type": "slide"
    }
   },
   "outputs": [
    {
     "data": {
      "text/html": [
       "<div>\n",
       "<style scoped>\n",
       "    .dataframe tbody tr th:only-of-type {\n",
       "        vertical-align: middle;\n",
       "    }\n",
       "\n",
       "    .dataframe tbody tr th {\n",
       "        vertical-align: top;\n",
       "    }\n",
       "\n",
       "    .dataframe thead th {\n",
       "        text-align: right;\n",
       "    }\n",
       "</style>\n",
       "<table border=\"1\" class=\"dataframe\">\n",
       "  <thead>\n",
       "    <tr style=\"text-align: right;\">\n",
       "      <th></th>\n",
       "      <th>category</th>\n",
       "      <th>ranking</th>\n",
       "      <th>seogi_nl_clear</th>\n",
       "      <th>ISBN</th>\n",
       "      <th>title_x</th>\n",
       "      <th>author</th>\n",
       "      <th>publisher</th>\n",
       "      <th>price_x</th>\n",
       "      <th>width</th>\n",
       "      <th>length</th>\n",
       "      <th>thick</th>\n",
       "      <th>weight</th>\n",
       "      <th>page(쪽)</th>\n",
       "      <th>grade</th>\n",
       "      <th>grade_count</th>\n",
       "      <th>summary_x</th>\n",
       "      <th>review</th>\n",
       "      <th>corpus</th>\n",
       "    </tr>\n",
       "  </thead>\n",
       "  <tbody>\n",
       "    <tr>\n",
       "      <th>200</th>\n",
       "      <td>1</td>\n",
       "      <td>89</td>\n",
       "      <td>03830</td>\n",
       "      <td>9788990982872</td>\n",
       "      <td>환야. 2</td>\n",
       "      <td>히가시노 게이고</td>\n",
       "      <td>재인</td>\n",
       "      <td>17800</td>\n",
       "      <td>137</td>\n",
       "      <td>196</td>\n",
       "      <td>41</td>\n",
       "      <td>544</td>\n",
       "      <td>444</td>\n",
       "      <td>48.0</td>\n",
       "      <td>12</td>\n",
       "      <td>“비록 그녀와의 밤이 환상일지라도…….”한신 아와지 대지진에서 밀레니엄 전야까지세기...</td>\n",
       "      <td>잘 읽겠습니다. 절판이라 중고로 구입해서 읽었었는데 새로 나와서 다시 구입했어요 백...</td>\n",
       "      <td>“비록 그녀와의 밤이 환상일지라도…….”한신 아와지 대지진에서 밀레니엄 전야까지세기...</td>\n",
       "    </tr>\n",
       "    <tr>\n",
       "      <th>285</th>\n",
       "      <td>1</td>\n",
       "      <td>94</td>\n",
       "      <td>03830</td>\n",
       "      <td>9788990982704</td>\n",
       "      <td>용의자 X의 헌신</td>\n",
       "      <td>히가시노 게이고</td>\n",
       "      <td>재인</td>\n",
       "      <td>16800</td>\n",
       "      <td>139</td>\n",
       "      <td>198</td>\n",
       "      <td>38</td>\n",
       "      <td>561</td>\n",
       "      <td>448</td>\n",
       "      <td>53.0</td>\n",
       "      <td>14</td>\n",
       "      <td>히가시노 게이고 문학의 정수로 일컬어지는 추리 소설 『용의자 X의 헌신』. 일본 문...</td>\n",
       "      <td>한번읽기시작하면 궁금해서 계속읽게되는 책이네요~ 추리소설좋아하면 꼭읽어보세요~ 영화...</td>\n",
       "      <td>히가시노 게이고 문학의 정수로 일컬어지는 추리 소설 『용의자 X의 헌신』. 일본 문...</td>\n",
       "    </tr>\n",
       "    <tr>\n",
       "      <th>290</th>\n",
       "      <td>1</td>\n",
       "      <td>73</td>\n",
       "      <td>03830</td>\n",
       "      <td>9788990982865</td>\n",
       "      <td>환야. 1</td>\n",
       "      <td>히가시노 게이고</td>\n",
       "      <td>재인</td>\n",
       "      <td>17800</td>\n",
       "      <td>138</td>\n",
       "      <td>195</td>\n",
       "      <td>46</td>\n",
       "      <td>620</td>\n",
       "      <td>520</td>\n",
       "      <td>71.0</td>\n",
       "      <td>18</td>\n",
       "      <td>히가시노 게이고의 장편소설『환야』제1권. 1995년 1월 일본을 강타한 한신 아와지...</td>\n",
       "      <td>재밌어요 정말 재미있게 읽었어요. 좋아하는 작가님입니다. 어제 도착해서 재미있게 읽...</td>\n",
       "      <td>히가시노 게이고의 장편소설『환야』제1권. 1995년 1월 일본을 강타한 한신 아와지...</td>\n",
       "    </tr>\n",
       "    <tr>\n",
       "      <th>307</th>\n",
       "      <td>1</td>\n",
       "      <td>62</td>\n",
       "      <td>03830</td>\n",
       "      <td>9788990982575</td>\n",
       "      <td>가면산장 살인사건</td>\n",
       "      <td>히가시노 게이고</td>\n",
       "      <td>재인</td>\n",
       "      <td>14800</td>\n",
       "      <td>130</td>\n",
       "      <td>202</td>\n",
       "      <td>30</td>\n",
       "      <td>450</td>\n",
       "      <td>336</td>\n",
       "      <td>150.0</td>\n",
       "      <td>42</td>\n",
       "      <td>히가시노 게이고의 소설 『가면산장 살인사건』. 저자와 독자가 아슬아슬한 두뇌 싸움을...</td>\n",
       "      <td>조금은 예상이 가는 트릭 진짜 재미있었어요! 한 절반쯤부터 책을 놓을수가 없더라고요...</td>\n",
       "      <td>히가시노 게이고의 소설 『가면산장 살인사건』. 저자와 독자가 아슬아슬한 두뇌 싸움을...</td>\n",
       "    </tr>\n",
       "  </tbody>\n",
       "</table>\n",
       "</div>"
      ],
      "text/plain": [
       "     category  ranking seogi_nl_clear           ISBN    title_x    author  \\\n",
       "200         1       89          03830  9788990982872      환야. 2  히가시노 게이고   \n",
       "285         1       94          03830  9788990982704  용의자 X의 헌신  히가시노 게이고   \n",
       "290         1       73          03830  9788990982865      환야. 1  히가시노 게이고   \n",
       "307         1       62          03830  9788990982575  가면산장 살인사건  히가시노 게이고   \n",
       "\n",
       "    publisher  price_x  width  length thick  weight  page(쪽)  grade  \\\n",
       "200        재인    17800    137     196   41      544      444   48.0   \n",
       "285        재인    16800    139     198   38      561      448   53.0   \n",
       "290        재인    17800    138     195   46      620      520   71.0   \n",
       "307        재인    14800    130     202   30      450      336  150.0   \n",
       "\n",
       "     grade_count                                          summary_x  \\\n",
       "200           12  “비록 그녀와의 밤이 환상일지라도…….”한신 아와지 대지진에서 밀레니엄 전야까지세기...   \n",
       "285           14  히가시노 게이고 문학의 정수로 일컬어지는 추리 소설 『용의자 X의 헌신』. 일본 문...   \n",
       "290           18  히가시노 게이고의 장편소설『환야』제1권. 1995년 1월 일본을 강타한 한신 아와지...   \n",
       "307           42  히가시노 게이고의 소설 『가면산장 살인사건』. 저자와 독자가 아슬아슬한 두뇌 싸움을...   \n",
       "\n",
       "                                                review  \\\n",
       "200  잘 읽겠습니다. 절판이라 중고로 구입해서 읽었었는데 새로 나와서 다시 구입했어요 백...   \n",
       "285  한번읽기시작하면 궁금해서 계속읽게되는 책이네요~ 추리소설좋아하면 꼭읽어보세요~ 영화...   \n",
       "290  재밌어요 정말 재미있게 읽었어요. 좋아하는 작가님입니다. 어제 도착해서 재미있게 읽...   \n",
       "307  조금은 예상이 가는 트릭 진짜 재미있었어요! 한 절반쯤부터 책을 놓을수가 없더라고요...   \n",
       "\n",
       "                                                corpus  \n",
       "200  “비록 그녀와의 밤이 환상일지라도…….”한신 아와지 대지진에서 밀레니엄 전야까지세기...  \n",
       "285  히가시노 게이고 문학의 정수로 일컬어지는 추리 소설 『용의자 X의 헌신』. 일본 문...  \n",
       "290  히가시노 게이고의 장편소설『환야』제1권. 1995년 1월 일본을 강타한 한신 아와지...  \n",
       "307  히가시노 게이고의 소설 『가면산장 살인사건』. 저자와 독자가 아슬아슬한 두뇌 싸움을...  "
      ]
     },
     "execution_count": 55,
     "metadata": {},
     "output_type": "execute_result"
    }
   ],
   "source": [
    "# 일본 소설, 유명 작가 히가시노 게이고를 위주로 출판\n",
    "df_novel[df_novel[\"publisher\"] == \"재인\"]"
   ]
  },
  {
   "cell_type": "code",
   "execution_count": 56,
   "metadata": {
    "slideshow": {
     "slide_type": "slide"
    }
   },
   "outputs": [
    {
     "data": {
      "text/html": [
       "<div>\n",
       "<style scoped>\n",
       "    .dataframe tbody tr th:only-of-type {\n",
       "        vertical-align: middle;\n",
       "    }\n",
       "\n",
       "    .dataframe tbody tr th {\n",
       "        vertical-align: top;\n",
       "    }\n",
       "\n",
       "    .dataframe thead th {\n",
       "        text-align: right;\n",
       "    }\n",
       "</style>\n",
       "<table border=\"1\" class=\"dataframe\">\n",
       "  <thead>\n",
       "    <tr style=\"text-align: right;\">\n",
       "      <th></th>\n",
       "      <th>publisher</th>\n",
       "      <th>count</th>\n",
       "    </tr>\n",
       "  </thead>\n",
       "  <tbody>\n",
       "    <tr>\n",
       "      <th>5</th>\n",
       "      <td>현대문학</td>\n",
       "      <td>3</td>\n",
       "    </tr>\n",
       "    <tr>\n",
       "      <th>6</th>\n",
       "      <td>위즈덤하우스</td>\n",
       "      <td>3</td>\n",
       "    </tr>\n",
       "    <tr>\n",
       "      <th>7</th>\n",
       "      <td>북플라자</td>\n",
       "      <td>3</td>\n",
       "    </tr>\n",
       "    <tr>\n",
       "      <th>8</th>\n",
       "      <td>알에이치코리아</td>\n",
       "      <td>3</td>\n",
       "    </tr>\n",
       "  </tbody>\n",
       "</table>\n",
       "</div>"
      ],
      "text/plain": [
       "  publisher  count\n",
       "5      현대문학      3\n",
       "6    위즈덤하우스      3\n",
       "7      북플라자      3\n",
       "8   알에이치코리아      3"
      ]
     },
     "execution_count": 56,
     "metadata": {},
     "output_type": "execute_result"
    }
   ],
   "source": [
    "# 베스트셀러 순위에 2개 올린 출판사 개수 3개\n",
    "df_publisher_sort[df_publisher_sort[\"count\"] == 3]"
   ]
  },
  {
   "cell_type": "code",
   "execution_count": 28,
   "metadata": {},
   "outputs": [],
   "source": [
    "final_top3_df = pd.read_csv(\"./fianl_top3_df.csv\")"
   ]
  },
  {
   "cell_type": "code",
   "execution_count": 57,
   "metadata": {
    "slideshow": {
     "slide_type": "slide"
    }
   },
   "outputs": [
    {
     "data": {
      "text/plain": [
       "241    56\n",
       "237    54\n",
       "242    54\n",
       "115    53\n",
       "204    51\n",
       "       ..\n",
       "308     2\n",
       "328     1\n",
       "153     1\n",
       "154     1\n",
       "162     1\n",
       "Name: grade_count, Length: 347, dtype: int64"
      ]
     },
     "execution_count": 57,
     "metadata": {},
     "output_type": "execute_result"
    }
   ],
   "source": [
    "# 단행본으로 가장 많은 리뷰 수 top5: 페스트(56) > 데미안(54) > 아몬드(54) > 지쳤거나 좋아하는 게 없거나(53) > 김지영(51)\n",
    "final_top3_df['grade_count'].sort_values(ascending=False)"
   ]
  },
  {
   "cell_type": "code",
   "execution_count": 58,
   "metadata": {
    "slideshow": {
     "slide_type": "slide"
    }
   },
   "outputs": [],
   "source": [
    "# 리뷰 수가 45개 이상인 책들을 추린다\n",
    "df_lots_review = final_top3_df[final_top3_df['grade_count'] > 45]\n",
    "#df_lots_review"
   ]
  },
  {
   "cell_type": "code",
   "execution_count": 59,
   "metadata": {
    "slideshow": {
     "slide_type": "slide"
    }
   },
   "outputs": [
    {
     "data": {
      "text/html": [
       "<div>\n",
       "<style scoped>\n",
       "    .dataframe tbody tr th:only-of-type {\n",
       "        vertical-align: middle;\n",
       "    }\n",
       "\n",
       "    .dataframe tbody tr th {\n",
       "        vertical-align: top;\n",
       "    }\n",
       "\n",
       "    .dataframe thead th {\n",
       "        text-align: right;\n",
       "    }\n",
       "</style>\n",
       "<table border=\"1\" class=\"dataframe\">\n",
       "  <thead>\n",
       "    <tr style=\"text-align: right;\">\n",
       "      <th></th>\n",
       "      <th>title</th>\n",
       "      <th>author</th>\n",
       "      <th>grade</th>\n",
       "      <th>grade_count</th>\n",
       "    </tr>\n",
       "    <tr>\n",
       "      <th>publisher</th>\n",
       "      <th></th>\n",
       "      <th></th>\n",
       "      <th></th>\n",
       "      <th></th>\n",
       "    </tr>\n",
       "  </thead>\n",
       "  <tbody>\n",
       "    <tr>\n",
       "      <th>민음사</th>\n",
       "      <td>82년생 김지영페스트달과 6펜스호밀밭의 파수꾼데미안</td>\n",
       "      <td>5</td>\n",
       "      <td>927</td>\n",
       "      <td>251</td>\n",
       "    </tr>\n",
       "    <tr>\n",
       "      <th>시공사</th>\n",
       "      <td>사서함 110호의 우편물날씨가 좋으면 찾아가겠어요(드라마 방영 기념 한정판)</td>\n",
       "      <td>2</td>\n",
       "      <td>386</td>\n",
       "      <td>100</td>\n",
       "    </tr>\n",
       "    <tr>\n",
       "      <th>문학동네</th>\n",
       "      <td>여자로 살아가는 우리들에게개인주의자 선언</td>\n",
       "      <td>2</td>\n",
       "      <td>375</td>\n",
       "      <td>98</td>\n",
       "    </tr>\n",
       "    <tr>\n",
       "      <th>창비</th>\n",
       "      <td>아몬드</td>\n",
       "      <td>1</td>\n",
       "      <td>202</td>\n",
       "      <td>54</td>\n",
       "    </tr>\n",
       "    <tr>\n",
       "      <th>더스토리</th>\n",
       "      <td>데미안(초판본)(리커버 한정판)</td>\n",
       "      <td>1</td>\n",
       "      <td>212</td>\n",
       "      <td>54</td>\n",
       "    </tr>\n",
       "    <tr>\n",
       "      <th>강한별</th>\n",
       "      <td>지쳤거나 좋아하는 게 없거나</td>\n",
       "      <td>1</td>\n",
       "      <td>116</td>\n",
       "      <td>53</td>\n",
       "    </tr>\n",
       "    <tr>\n",
       "      <th>비잉(Being)</th>\n",
       "      <td>인생의 마지막 순간에서</td>\n",
       "      <td>1</td>\n",
       "      <td>174</td>\n",
       "      <td>50</td>\n",
       "    </tr>\n",
       "    <tr>\n",
       "      <th>진심의꽃한송이</th>\n",
       "      <td>참 소중한 너라서</td>\n",
       "      <td>1</td>\n",
       "      <td>198</td>\n",
       "      <td>50</td>\n",
       "    </tr>\n",
       "    <tr>\n",
       "      <th>웅진지식하우스</th>\n",
       "      <td>초예측</td>\n",
       "      <td>1</td>\n",
       "      <td>167</td>\n",
       "      <td>50</td>\n",
       "    </tr>\n",
       "    <tr>\n",
       "      <th>흔</th>\n",
       "      <td>죽고 싶지만 떡볶이는 먹고 싶어</td>\n",
       "      <td>1</td>\n",
       "      <td>101</td>\n",
       "      <td>50</td>\n",
       "    </tr>\n",
       "    <tr>\n",
       "      <th>북플라자</th>\n",
       "      <td>봉제인형 살인사건</td>\n",
       "      <td>1</td>\n",
       "      <td>173</td>\n",
       "      <td>50</td>\n",
       "    </tr>\n",
       "    <tr>\n",
       "      <th>모비딕북스</th>\n",
       "      <td>양준일 Maybe</td>\n",
       "      <td>1</td>\n",
       "      <td>194</td>\n",
       "      <td>50</td>\n",
       "    </tr>\n",
       "    <tr>\n",
       "      <th>더모던</th>\n",
       "      <td>빨강 머리 앤</td>\n",
       "      <td>1</td>\n",
       "      <td>197</td>\n",
       "      <td>50</td>\n",
       "    </tr>\n",
       "    <tr>\n",
       "      <th>흐름출판</th>\n",
       "      <td>골든아워. 1</td>\n",
       "      <td>1</td>\n",
       "      <td>196</td>\n",
       "      <td>49</td>\n",
       "    </tr>\n",
       "    <tr>\n",
       "      <th>놀</th>\n",
       "      <td>오늘도 펭수 내일도 펭수(한정판 꽃눈 에디션)</td>\n",
       "      <td>1</td>\n",
       "      <td>173</td>\n",
       "      <td>47</td>\n",
       "    </tr>\n",
       "    <tr>\n",
       "      <th>갤리온</th>\n",
       "      <td>클루지</td>\n",
       "      <td>1</td>\n",
       "      <td>144</td>\n",
       "      <td>47</td>\n",
       "    </tr>\n",
       "    <tr>\n",
       "      <th>21세기북스</th>\n",
       "      <td>타인의 시선을 의식해 힘든 나에게</td>\n",
       "      <td>1</td>\n",
       "      <td>165</td>\n",
       "      <td>47</td>\n",
       "    </tr>\n",
       "  </tbody>\n",
       "</table>\n",
       "</div>"
      ],
      "text/plain": [
       "                                                title  author  grade  \\\n",
       "publisher                                                              \n",
       "민음사                      82년생 김지영페스트달과 6펜스호밀밭의 파수꾼데미안       5    927   \n",
       "시공사        사서함 110호의 우편물날씨가 좋으면 찾아가겠어요(드라마 방영 기념 한정판)       2    386   \n",
       "문학동네                           여자로 살아가는 우리들에게개인주의자 선언       2    375   \n",
       "창비                                                아몬드       1    202   \n",
       "더스토리                                데미안(초판본)(리커버 한정판)       1    212   \n",
       "강한별                                   지쳤거나 좋아하는 게 없거나       1    116   \n",
       "비잉(Being)                                인생의 마지막 순간에서       1    174   \n",
       "진심의꽃한송이                                     참 소중한 너라서       1    198   \n",
       "웅진지식하우스                                           초예측       1    167   \n",
       "흔                                   죽고 싶지만 떡볶이는 먹고 싶어       1    101   \n",
       "북플라자                                        봉제인형 살인사건       1    173   \n",
       "모비딕북스                                       양준일 Maybe       1    194   \n",
       "더모던                                           빨강 머리 앤       1    197   \n",
       "흐름출판                                          골든아워. 1       1    196   \n",
       "놀                           오늘도 펭수 내일도 펭수(한정판 꽃눈 에디션)       1    173   \n",
       "갤리온                                               클루지       1    144   \n",
       "21세기북스                             타인의 시선을 의식해 힘든 나에게       1    165   \n",
       "\n",
       "           grade_count  \n",
       "publisher               \n",
       "민음사                251  \n",
       "시공사                100  \n",
       "문학동네                98  \n",
       "창비                  54  \n",
       "더스토리                54  \n",
       "강한별                 53  \n",
       "비잉(Being)           50  \n",
       "진심의꽃한송이             50  \n",
       "웅진지식하우스             50  \n",
       "흔                   50  \n",
       "북플라자                50  \n",
       "모비딕북스               50  \n",
       "더모던                 50  \n",
       "흐름출판                49  \n",
       "놀                   47  \n",
       "갤리온                 47  \n",
       "21세기북스              47  "
      ]
     },
     "execution_count": 59,
     "metadata": {},
     "output_type": "execute_result"
    }
   ],
   "source": [
    "# 출판사 기준으로 group화 하고, 출판사, 작품 제목, 저자 수, 총 점, 총 리뷰 수를 정렬한다\n",
    "best_publisher = df_lots_review.groupby('publisher').agg({'title' : 'sum', 'author': 'count', 'grade' : 'sum', 'grade_count' : 'sum'})\n",
    "#best_publisher['grade_count'].sort_values(ascending=False)\n",
    "best_publisher.sort_values(by=['grade_count'], ascending=False)\n",
    "\n",
    "\n",
    "#agg({'grade_count' : 'count','grade' : 'sum', 'review' : lambda x : ' '.join(x)})"
   ]
  },
  {
   "cell_type": "markdown",
   "metadata": {
    "slideshow": {
     "slide_type": "slide"
    }
   },
   "source": [
    "### 증명2: 리뷰 수로 본 강세 출판사\n",
    "- 민음사, 시공사, 문학동네 는 다량의 작품을 베스트셀러로 만들고, 리뷰도 45개 이상인 책들이 여러 권이다\n",
    "- 민음사는 <<82년생 김지영>> 외에 주로 고전으로 베스트셀러 자리를 차지한다\n",
    "- 강한별, 흔 등 독립출판으로 에세이 분야에서 유명해진 저자들이 만든 개인 출판사도 베스트셀러 리뷰 강세를 보인다"
   ]
  },
  {
   "cell_type": "markdown",
   "metadata": {
    "slideshow": {
     "slide_type": "slide"
    }
   },
   "source": [
    "### 결론: 주요 출판사일수록 많은 리뷰를 가지는 것 아니다(소설, 에세이, 인문 기준)\n",
    "- 하지만, 주요 출판사 중 민음사가 단일권 기준 가장 많은 리뷰수를 가진 책이 2권이나 있고, 3권이 top5 안에 든다\n",
    "- 이 중 데미안(더스토리), 페스트가 tvN <책 읽어드립니다>에 소개되었고, 그 홍보효과를 본 것으로 예상된다\n",
    "- 주요 출판사가 아닌 작은 출판사이더라도 많은 리뷰 수를 모을 수 있다\n",
    "- 중요한 건 작품에 독자들을 감동시킬 수 있는 공감대가 얼마나 있는지이다 "
   ]
  },
  {
   "cell_type": "code",
   "execution_count": null,
   "metadata": {},
   "outputs": [],
   "source": []
  },
  {
   "cell_type": "code",
   "execution_count": null,
   "metadata": {},
   "outputs": [],
   "source": []
  },
  {
   "cell_type": "markdown",
   "metadata": {
    "slideshow": {
     "slide_type": "slide"
    }
   },
   "source": [
    "### 가설3: 소설분야 부가기호 기준 가장 많은 세부 장르는 한국소설일 것이다"
   ]
  },
  {
   "cell_type": "code",
   "execution_count": 62,
   "metadata": {},
   "outputs": [],
   "source": [
    "df_novel_add_num = df_final_bestsellors[df_final_bestsellors[\"category\"] == 1]"
   ]
  },
  {
   "cell_type": "code",
   "execution_count": 63,
   "metadata": {},
   "outputs": [
    {
     "data": {
      "text/plain": [
       "<bound method Series.unique of 3      03810\n",
       "4      03810\n",
       "5      04850\n",
       "6      04800\n",
       "183    03840\n",
       "       ...  \n",
       "348    04800\n",
       "349    03850\n",
       "350    03830\n",
       "351        [\n",
       "352    03810\n",
       "Name: seogi_nl_clear, Length: 110, dtype: object>"
      ]
     },
     "execution_count": 63,
     "metadata": {},
     "output_type": "execute_result"
    }
   ],
   "source": [
    "df_novel_add_num['seogi_nl_clear'].unique"
   ]
  },
  {
   "cell_type": "code",
   "execution_count": 65,
   "metadata": {
    "slideshow": {
     "slide_type": "slide"
    }
   },
   "outputs": [
    {
     "data": {
      "text/html": [
       "<div>\n",
       "<style scoped>\n",
       "    .dataframe tbody tr th:only-of-type {\n",
       "        vertical-align: middle;\n",
       "    }\n",
       "\n",
       "    .dataframe tbody tr th {\n",
       "        vertical-align: top;\n",
       "    }\n",
       "\n",
       "    .dataframe thead th {\n",
       "        text-align: right;\n",
       "    }\n",
       "</style>\n",
       "<table border=\"1\" class=\"dataframe\">\n",
       "  <thead>\n",
       "    <tr style=\"text-align: right;\">\n",
       "      <th></th>\n",
       "      <th>seogi_nl_clear</th>\n",
       "      <th>count</th>\n",
       "    </tr>\n",
       "  </thead>\n",
       "  <tbody>\n",
       "    <tr>\n",
       "      <th>0</th>\n",
       "      <td>03810</td>\n",
       "      <td>30</td>\n",
       "    </tr>\n",
       "    <tr>\n",
       "      <th>1</th>\n",
       "      <td>03840</td>\n",
       "      <td>20</td>\n",
       "    </tr>\n",
       "    <tr>\n",
       "      <th>2</th>\n",
       "      <td>03830</td>\n",
       "      <td>10</td>\n",
       "    </tr>\n",
       "    <tr>\n",
       "      <th>3</th>\n",
       "      <td>04800</td>\n",
       "      <td>9</td>\n",
       "    </tr>\n",
       "    <tr>\n",
       "      <th>4</th>\n",
       "      <td>04810</td>\n",
       "      <td>9</td>\n",
       "    </tr>\n",
       "  </tbody>\n",
       "</table>\n",
       "</div>"
      ],
      "text/plain": [
       "  seogi_nl_clear  count\n",
       "0          03810     30\n",
       "1          03840     20\n",
       "2          03830     10\n",
       "3          04800      9\n",
       "4          04810      9"
      ]
     },
     "execution_count": 65,
     "metadata": {},
     "output_type": "execute_result"
    }
   ],
   "source": [
    "df_novel_add_num2 = df_novel_add_num.groupby('seogi_nl_clear').size().reset_index()\n",
    "df_novel_add_num3 = df_novel_add_num2.rename(columns={0:'count'})\n",
    "df_novel_add_num_sort = df_novel_add_num3.sort_values('count', ascending=False)\n",
    "df_novel_add_num_sort2 = df_novel_add_num_sort.reset_index().drop('index', axis=1)\n",
    "df_novel_add_num_sort2.head()"
   ]
  },
  {
   "cell_type": "code",
   "execution_count": 66,
   "metadata": {
    "slideshow": {
     "slide_type": "slide"
    }
   },
   "outputs": [
    {
     "data": {
      "image/png": "[encoded data removed]",
      "text/plain": [
       "<Figure size 1440x360 with 1 Axes>"
      ]
     },
     "metadata": {
      "image/png": {
       "height": 319,
       "width": 1164
      },
      "needs_background": "light"
     },
     "output_type": "display_data"
    }
   ],
   "source": [
    "plt.figure(figsize=(20, 5))\n",
    "\n",
    "sns.barplot(x='seogi_nl_clear', y='count', data=df_novel_add_num_sort2)\n",
    "\n",
    "plt.show()"
   ]
  },
  {
   "cell_type": "markdown",
   "metadata": {
    "slideshow": {
     "slide_type": "slide"
    }
   },
   "source": [
    "#### 부가기호 번호\n",
    "- 03810: 한국문학 30권\n",
    "- 03840: 영미문학 20권\n",
    "- 03830: 일본문학 10권\n",
    "- 04800: 문학 일반 세트 9권\n",
    "- 04810: 한국문학 세트 9권"
   ]
  },
  {
   "cell_type": "markdown",
   "metadata": {
    "slideshow": {
     "slide_type": "slide"
    }
   },
   "source": [
    "### 증명3: 한국문학이 가장 많고 그 뒤를 영미문학, 일본문학이 뒤따른다"
   ]
  },
  {
   "cell_type": "code",
   "execution_count": null,
   "metadata": {},
   "outputs": [],
   "source": []
  },
  {
   "cell_type": "code",
   "execution_count": null,
   "metadata": {},
   "outputs": [],
   "source": []
  },
  {
   "cell_type": "code",
   "execution_count": null,
   "metadata": {},
   "outputs": [],
   "source": []
  },
  {
   "cell_type": "markdown",
   "metadata": {
    "slideshow": {
     "slide_type": "slide"
    }
   },
   "source": [
    "## 머신러닝\n",
    "### 워드 클라우드로 좋아하는 책 데이터 살펴보기"
   ]
  },
  {
   "cell_type": "code",
   "execution_count": 1,
   "metadata": {},
   "outputs": [],
   "source": [
    "final_top3_df = pd.read_csv(\"./fianl_top3_df.csv\", index_col=0)"
   ]
  },
  {
   "cell_type": "code",
   "execution_count": 2,
   "metadata": {
    "slideshow": {
     "slide_type": "slide"
    }
   },
   "outputs": [],
   "source": [
    "from wordcloud import WordCloud, STOPWORDS\n",
    "import matplotlib.pyplot as plt\n",
    "%matplotlib inline\n",
    "\n",
    "from PIL import Image\n",
    "import nltk\n",
    "from konlpy.corpus import kobill"
   ]
  },
  {
   "cell_type": "markdown",
   "metadata": {
    "slideshow": {
     "slide_type": "slide"
    }
   },
   "source": [
    "### 카뮈_페스트\n",
    "- tvN <책을 읽어드립니다> 에 소개\n",
    "- 코로나 시기에 유럽의 흑사병과 관련된 이야기로 베스트셀러 1위 유지"
   ]
  },
  {
   "cell_type": "code",
   "execution_count": 3,
   "metadata": {},
   "outputs": [],
   "source": [
    "novel = open('./카뮈_페스트.txt', encoding=\"utf-8\").read()\n",
    "\n",
    "#stopwords = set(text)\n",
    "#stopwords.add(\"카뮈\")\n",
    "#stopwords"
   ]
  },
  {
   "cell_type": "code",
   "execution_count": 4,
   "metadata": {},
   "outputs": [],
   "source": [
    "#wc = WordCloud(background_color='white', max_words=2000, stopwords=stopwords)\n",
    "#wc = wc.generate(text)\n",
    "#wc.words_"
   ]
  },
  {
   "cell_type": "code",
   "execution_count": 5,
   "metadata": {
    "slideshow": {
     "slide_type": "slide"
    }
   },
   "outputs": [
    {
     "data": {
      "text/plain": [
       "['세기',\n",
       " '실존',\n",
       " '주의',\n",
       " '문학',\n",
       " '대표',\n",
       " '작가',\n",
       " '알베르',\n",
       " '카뮈',\n",
       " '소설',\n",
       " '페스트',\n",
       " '페스트',\n",
       " '비극',\n",
       " '현실',\n",
       " '속',\n",
       " '운명',\n",
       " '대결',\n",
       " '인간',\n",
       " '모습',\n",
       " '그린',\n",
       " '이',\n",
       " '작품',\n",
       " '세기',\n",
       " '문학',\n",
       " '기념비',\n",
       " '고전',\n",
       " '전염병',\n",
       " '폐쇄된',\n",
       " '도시',\n",
       " '재앙',\n",
       " '대응',\n",
       " '사람',\n",
       " '각기',\n",
       " '다른',\n",
       " '모습',\n",
       " '묘사',\n",
       " '인물',\n",
       " '재앙',\n",
       " '대처',\n",
       " '서로',\n",
       " '다른',\n",
       " '태도',\n",
       " '그',\n",
       " '모습',\n",
       " '통해',\n",
       " '절망',\n",
       " '것',\n",
       " '행복',\n",
       " '대한',\n",
       " '의지',\n",
       " '현실',\n",
       " '죽음',\n",
       " '앞',\n",
       " '희망',\n",
       " '것',\n",
       " '이',\n",
       " '세상',\n",
       " '대한',\n",
       " '반항',\n",
       " '임',\n",
       " '이야기',\n",
       " '이번',\n",
       " '한국어',\n",
       " '판',\n",
       " '우리나라',\n",
       " '최고',\n",
       " '불문학',\n",
       " '번역가',\n",
       " '선정',\n",
       " '김화영',\n",
       " '교수',\n",
       " '번역',\n",
       " '저자',\n",
       " '알베르',\n",
       " '카뮈',\n",
       " '알제리',\n",
       " '몽드비',\n",
       " '출생',\n",
       " '당시',\n",
       " '알제리',\n",
       " '프랑스',\n",
       " '식민지',\n",
       " '농업',\n",
       " '노동자',\n",
       " '아버지',\n",
       " '차',\n",
       " '세계대전',\n",
       " '중',\n",
       " '전사',\n",
       " '청각장애',\n",
       " '어머니',\n",
       " '가난',\n",
       " '속',\n",
       " '초등학교',\n",
       " '시절',\n",
       " '제르맹',\n",
       " '스승',\n",
       " '대학',\n",
       " '진학',\n",
       " '고학',\n",
       " '알제',\n",
       " '대학교',\n",
       " '철',\n",
       " '학과',\n",
       " '평생',\n",
       " '스승',\n",
       " '장',\n",
       " '그르니',\n",
       " '영향',\n",
       " '공산당',\n",
       " '가입',\n",
       " '그',\n",
       " '비판',\n",
       " '르포',\n",
       " '논설',\n",
       " '정치',\n",
       " '추방',\n",
       " '프랑스',\n",
       " '사상계',\n",
       " '문학계',\n",
       " '대표',\n",
       " '만',\n",
       " '말로',\n",
       " '지드',\n",
       " '사르트르',\n",
       " '샤르',\n",
       " '등',\n",
       " '교류',\n",
       " '본격',\n",
       " '작품',\n",
       " '활동',\n",
       " '몰입',\n",
       " '이방인',\n",
       " '발표',\n",
       " '주목',\n",
       " '작가',\n",
       " '노벨문학상',\n",
       " '수상한',\n",
       " '후',\n",
       " '최초',\n",
       " '본격',\n",
       " '장편소설',\n",
       " '최초',\n",
       " '인간',\n",
       " '집필',\n",
       " '작업',\n",
       " '자동차',\n",
       " '사고',\n",
       " '생',\n",
       " '경북',\n",
       " '영주',\n",
       " '출생',\n",
       " '문학평론가',\n",
       " '이자',\n",
       " '고려대학교',\n",
       " '명예',\n",
       " '교수',\n",
       " '서울대',\n",
       " '불어',\n",
       " '불문',\n",
       " '학과',\n",
       " '과',\n",
       " '대학원',\n",
       " '졸업',\n",
       " '프랑스',\n",
       " '프로방스',\n",
       " '대학교',\n",
       " '알베르',\n",
       " '카뮈',\n",
       " '연구',\n",
       " '문학',\n",
       " '박사',\n",
       " '학위',\n",
       " '안목',\n",
       " '유려',\n",
       " '문체',\n",
       " '프랑스',\n",
       " '대표',\n",
       " '문학',\n",
       " '작품',\n",
       " '국내',\n",
       " '소개',\n",
       " '고려대학교',\n",
       " '불문',\n",
       " '학과',\n",
       " '여',\n",
       " '년',\n",
       " '학생',\n",
       " '고려대학교',\n",
       " '시청각교육',\n",
       " '원장',\n",
       " '고려대학교',\n",
       " '도서관',\n",
       " '관장',\n",
       " '한국',\n",
       " '불어',\n",
       " '불문',\n",
       " '학회',\n",
       " '회장',\n",
       " '깊이',\n",
       " '분석',\n",
       " '평론',\n",
       " '전',\n",
       " '방위',\n",
       " '문학인',\n",
       " '최고',\n",
       " '불문학',\n",
       " '번역가',\n",
       " '선정',\n",
       " '바',\n",
       " '저서',\n",
       " '지중해',\n",
       " '내',\n",
       " '푸른',\n",
       " '영혼',\n",
       " '문학',\n",
       " '상상력',\n",
       " '연구',\n",
       " '알베르',\n",
       " '카뮈',\n",
       " '문학',\n",
       " '세계',\n",
       " '프',\n",
       " '로베르',\n",
       " '안녕',\n",
       " '예술',\n",
       " '성',\n",
       " '프랑스문학',\n",
       " '산책',\n",
       " '공간',\n",
       " '관',\n",
       " '노트',\n",
       " '바람',\n",
       " '집',\n",
       " '소설',\n",
       " '꽃',\n",
       " '뿌리',\n",
       " '발자크',\n",
       " '플로베르',\n",
       " '행복',\n",
       " '충격',\n",
       " '미당',\n",
       " '서정주',\n",
       " '선집',\n",
       " '예감',\n",
       " '시간',\n",
       " '파도',\n",
       " '지은',\n",
       " '성',\n",
       " '흔적',\n",
       " '알제리',\n",
       " '기행',\n",
       " '외',\n",
       " '다수',\n",
       " '역서',\n",
       " '알베르',\n",
       " '카뮈',\n",
       " '전집',\n",
       " '전',\n",
       " '권',\n",
       " '알베르',\n",
       " '카뮈',\n",
       " '프랑스',\n",
       " '현대',\n",
       " '시사',\n",
       " '섬',\n",
       " '청춘',\n",
       " '시절',\n",
       " '프랑스',\n",
       " '비평',\n",
       " '이해',\n",
       " '오늘',\n",
       " '프랑스',\n",
       " '철학사',\n",
       " '곱추',\n",
       " '침묵',\n",
       " '새',\n",
       " '페루',\n",
       " '방드르디',\n",
       " '태평양',\n",
       " '끝',\n",
       " '팔월',\n",
       " '일요일',\n",
       " '추억',\n",
       " '완성',\n",
       " '위',\n",
       " '어',\n",
       " '두운',\n",
       " '상점',\n",
       " '거리',\n",
       " '글',\n",
       " '침묵',\n",
       " '마담',\n",
       " '보',\n",
       " '바리',\n",
       " '예찬',\n",
       " '하루하루',\n",
       " '작별',\n",
       " '나날',\n",
       " '최초',\n",
       " '인간',\n",
       " '물',\n",
       " '거울',\n",
       " '걷기',\n",
       " '예찬',\n",
       " '뒷모습',\n",
       " '내',\n",
       " '사랑',\n",
       " '개',\n",
       " '율리시즈',\n",
       " '이별',\n",
       " '시절',\n",
       " '등',\n",
       " '부',\n",
       " '부',\n",
       " '부',\n",
       " '부',\n",
       " '부',\n",
       " '작품',\n",
       " '해설',\n",
       " '작가',\n",
       " '연보',\n",
       " '요즘',\n",
       " '코로나',\n",
       " '시기',\n",
       " '책',\n",
       " '명불허전',\n",
       " '보고',\n",
       " '구매',\n",
       " '유행병',\n",
       " '마주',\n",
       " '인간',\n",
       " '심리',\n",
       " '사회',\n",
       " '현상',\n",
       " '묘사',\n",
       " '감탄',\n",
       " '위기',\n",
       " '때',\n",
       " '나',\n",
       " '일',\n",
       " '것',\n",
       " '마음',\n",
       " '울림',\n",
       " '상황',\n",
       " '대하',\n",
       " '각기',\n",
       " '다른',\n",
       " '사람',\n",
       " '우리',\n",
       " '볼',\n",
       " '수',\n",
       " '책',\n",
       " '생각',\n",
       " '퇴근',\n",
       " '시간',\n",
       " '책',\n",
       " '시간',\n",
       " '낭비',\n",
       " '생각',\n",
       " '안',\n",
       " '게다가',\n",
       " '코로나',\n",
       " '뒤',\n",
       " '지금',\n",
       " '현실',\n",
       " '꼭꼭',\n",
       " '책',\n",
       " '게',\n",
       " '고전',\n",
       " '두고두고',\n",
       " '요즘',\n",
       " '상황',\n",
       " '번역',\n",
       " '국어',\n",
       " '표현',\n",
       " '후반',\n",
       " '해설',\n",
       " '작품',\n",
       " '이해',\n",
       " '도움',\n",
       " '코로나',\n",
       " '때문',\n",
       " '집콕',\n",
       " '소름',\n",
       " '정말',\n",
       " '요즘',\n",
       " '현실',\n",
       " '듯',\n",
       " '소설',\n",
       " '코로나바이러스',\n",
       " '사태',\n",
       " '겹',\n",
       " '부분',\n",
       " '본질',\n",
       " '대한',\n",
       " '두려움',\n",
       " '해도',\n",
       " '본질',\n",
       " '결코',\n",
       " '것',\n",
       " '다른',\n",
       " '한편',\n",
       " '사회',\n",
       " '패닉',\n",
       " '공포',\n",
       " '본질',\n",
       " '해결',\n",
       " '의지',\n",
       " '공포',\n",
       " '걸',\n",
       " '책',\n",
       " '그',\n",
       " '시대',\n",
       " '책',\n",
       " '작가',\n",
       " '천재',\n",
       " '현',\n",
       " '상황',\n",
       " '이해',\n",
       " '도움',\n",
       " '줄',\n",
       " '책',\n",
       " '몇번',\n",
       " '코로나',\n",
       " '로',\n",
       " '전염병',\n",
       " '관',\n",
       " '책',\n",
       " '번역',\n",
       " '국어',\n",
       " '표현',\n",
       " '후반',\n",
       " '해설',\n",
       " '작품',\n",
       " '이해',\n",
       " '도움',\n",
       " '코로나바이러스',\n",
       " '사태',\n",
       " '겹',\n",
       " '부분',\n",
       " '본질',\n",
       " '대한',\n",
       " '두려움',\n",
       " '해도',\n",
       " '본질',\n",
       " '결코',\n",
       " '것',\n",
       " '다른',\n",
       " '한편',\n",
       " '사회',\n",
       " '패닉',\n",
       " '공포',\n",
       " '본질',\n",
       " '해결',\n",
       " '의지',\n",
       " '공포',\n",
       " '걸',\n",
       " '책',\n",
       " '그',\n",
       " '시대',\n",
       " '책',\n",
       " '작가',\n",
       " '천재',\n",
       " '현',\n",
       " '상황',\n",
       " '이해',\n",
       " '도움',\n",
       " '줄',\n",
       " '책',\n",
       " '몇번',\n",
       " '코로나',\n",
       " '로',\n",
       " '전염병',\n",
       " '관',\n",
       " '책',\n",
       " '이',\n",
       " '시대',\n",
       " '꼭',\n",
       " '책',\n",
       " '지금',\n",
       " '더',\n",
       " '수',\n",
       " '굿',\n",
       " '책',\n",
       " '덕분',\n",
       " '우리',\n",
       " '내용',\n",
       " '요즘',\n",
       " '재',\n",
       " '조명',\n",
       " '책',\n",
       " '번',\n",
       " '보고',\n",
       " '요즘',\n",
       " '재',\n",
       " '조명',\n",
       " '책',\n",
       " '번',\n",
       " '보고',\n",
       " '요즘',\n",
       " '재',\n",
       " '조명',\n",
       " '책',\n",
       " '번',\n",
       " '보고',\n",
       " '고등학생',\n",
       " '딸아이',\n",
       " '독서',\n",
       " '교재',\n",
       " '구입',\n",
       " '아주',\n",
       " '이제야',\n",
       " '나',\n",
       " '자신',\n",
       " '계기',\n",
       " '알베르',\n",
       " '카뮈',\n",
       " '존경',\n",
       " '페스트',\n",
       " '거울',\n",
       " '몇몇',\n",
       " '인간',\n",
       " '자화상',\n",
       " '인간',\n",
       " '수',\n",
       " '부조리',\n",
       " '대해',\n",
       " '카뮈',\n",
       " '말',\n",
       " '것',\n",
       " '아주',\n",
       " '책',\n",
       " '기대',\n",
       " '문학',\n",
       " '명작',\n",
       " '고전',\n",
       " '것',\n",
       " '명작',\n",
       " '알베르',\n",
       " '카뮈',\n",
       " '두번째',\n",
       " '책',\n",
       " '이방인',\n",
       " '다이나믹',\n",
       " '알베르',\n",
       " '카뮈',\n",
       " '이방인',\n",
       " '다음',\n",
       " '책',\n",
       " '뭔가',\n",
       " '알멩',\n",
       " '작가',\n",
       " '카뮈',\n",
       " '팬',\n",
       " '라면',\n",
       " '조금',\n",
       " '소장',\n",
       " '재밋어',\n",
       " '기대',\n",
       " '까뮈',\n",
       " '책',\n",
       " '때',\n",
       " '느낌',\n",
       " '다른',\n",
       " '것',\n",
       " '페스트',\n",
       " '책',\n",
       " '아이',\n",
       " '추천',\n",
       " '내적',\n",
       " '고통',\n",
       " '페스트',\n",
       " '리',\n",
       " '유가',\n",
       " '객관',\n",
       " '서술',\n",
       " '함',\n",
       " '우리',\n",
       " '생각',\n",
       " '거리',\n",
       " '기대',\n",
       " '책']"
      ]
     },
     "execution_count": 5,
     "metadata": {},
     "output_type": "execute_result"
    }
   ],
   "source": [
    "from konlpy.tag import Okt;\n",
    "t = Okt()\n",
    "tokens_ko = t.nouns(novel)\n",
    "tokens_ko"
   ]
  },
  {
   "cell_type": "code",
   "execution_count": 6,
   "metadata": {
    "slideshow": {
     "slide_type": "slide"
    }
   },
   "outputs": [],
   "source": [
    "ko = nltk.Text(tokens_ko, name=\"카뮈_페스트\")"
   ]
  },
  {
   "cell_type": "code",
   "execution_count": 7,
   "metadata": {},
   "outputs": [
    {
     "name": "stdout",
     "output_type": "stream",
     "text": [
      "582\n",
      "351\n"
     ]
    },
    {
     "data": {
      "text/plain": [
       "FreqDist({'책': 23, '카뮈': 11, '알베르': 9, '것': 8, '문학': 7, '프랑스': 7, '작가': 6, '인간': 6, '작품': 6, '다른': 6, ...})"
      ]
     },
     "execution_count": 7,
     "metadata": {},
     "output_type": "execute_result"
    }
   ],
   "source": [
    "print(len(ko.tokens))\n",
    "print(len(set(ko.tokens)))\n",
    "ko.vocab()"
   ]
  },
  {
   "cell_type": "code",
   "execution_count": 8,
   "metadata": {},
   "outputs": [],
   "source": [
    "import matplotlib.pyplot as plt\n",
    "%matplotlib inline\n",
    "\n",
    "from matplotlib import font_manager, rc\n",
    "f_path = 'C://Windows/Fonts/malgun.ttf'\n",
    "\n",
    "font_name = font_manager.FontProperties(fname=f_path).get_name()\n",
    "rc('font', family=font_name)"
   ]
  },
  {
   "cell_type": "code",
   "execution_count": 9,
   "metadata": {},
   "outputs": [
    {
     "data": {
      "image/png": "[encoded data removed]",
      "text/plain": [
       "<Figure size 1440x432 with 1 Axes>"
      ]
     },
     "metadata": {
      "image/png": {
       "height": 432,
       "width": 1162
      },
      "needs_background": "light"
     },
     "output_type": "display_data"
    }
   ],
   "source": [
    "plt.figure(figsize=(20, 6))\n",
    "ko.plot(100)\n",
    "plt.show()"
   ]
  },
  {
   "cell_type": "code",
   "execution_count": 10,
   "metadata": {},
   "outputs": [
    {
     "data": {
      "text/plain": [
       "['세기',\n",
       " '실존',\n",
       " '주의',\n",
       " '문학',\n",
       " '대표',\n",
       " '작가',\n",
       " '알베르',\n",
       " '카뮈',\n",
       " '소설',\n",
       " '페스트',\n",
       " '페스트',\n",
       " '비극',\n",
       " '현실',\n",
       " '속',\n",
       " '운명',\n",
       " '대결',\n",
       " '인간',\n",
       " '모습',\n",
       " '그린',\n",
       " '작품',\n",
       " '세기',\n",
       " '문학',\n",
       " '기념비',\n",
       " '고전',\n",
       " '전염병',\n",
       " '폐쇄된',\n",
       " '도시',\n",
       " '재앙',\n",
       " '대응',\n",
       " '사람',\n",
       " '각기',\n",
       " '다른',\n",
       " '모습',\n",
       " '묘사',\n",
       " '인물',\n",
       " '재앙',\n",
       " '대처',\n",
       " '서로',\n",
       " '다른',\n",
       " '태도',\n",
       " '모습',\n",
       " '통해',\n",
       " '절망',\n",
       " '행복',\n",
       " '대한',\n",
       " '의지',\n",
       " '현실',\n",
       " '죽음',\n",
       " '앞',\n",
       " '희망',\n",
       " '세상',\n",
       " '대한',\n",
       " '반항',\n",
       " '임',\n",
       " '이야기',\n",
       " '이번',\n",
       " '한국어',\n",
       " '판',\n",
       " '우리나라',\n",
       " '최고',\n",
       " '불문학',\n",
       " '번역가',\n",
       " '선정',\n",
       " '김화영',\n",
       " '교수',\n",
       " '번역',\n",
       " '저자',\n",
       " '알베르',\n",
       " '카뮈',\n",
       " '알제리',\n",
       " '몽드비',\n",
       " '출생',\n",
       " '당시',\n",
       " '알제리',\n",
       " '프랑스',\n",
       " '식민지',\n",
       " '농업',\n",
       " '노동자',\n",
       " '아버지',\n",
       " '차',\n",
       " '세계대전',\n",
       " '중',\n",
       " '전사',\n",
       " '청각장애',\n",
       " '어머니',\n",
       " '가난',\n",
       " '속',\n",
       " '초등학교',\n",
       " '시절',\n",
       " '제르맹',\n",
       " '스승',\n",
       " '대학',\n",
       " '진학',\n",
       " '고학',\n",
       " '알제',\n",
       " '대학교',\n",
       " '철',\n",
       " '학과',\n",
       " '평생',\n",
       " '스승',\n",
       " '장',\n",
       " '그르니',\n",
       " '영향',\n",
       " '공산당',\n",
       " '가입',\n",
       " '비판',\n",
       " '르포',\n",
       " '논설',\n",
       " '정치',\n",
       " '추방',\n",
       " '프랑스',\n",
       " '사상계',\n",
       " '문학계',\n",
       " '대표',\n",
       " '말로',\n",
       " '지드',\n",
       " '사르트르',\n",
       " '샤르',\n",
       " '등',\n",
       " '교류',\n",
       " '본격',\n",
       " '작품',\n",
       " '활동',\n",
       " '몰입',\n",
       " '이방인',\n",
       " '발표',\n",
       " '주목',\n",
       " '작가',\n",
       " '노벨문학상',\n",
       " '수상한',\n",
       " '후',\n",
       " '최초',\n",
       " '본격',\n",
       " '장편소설',\n",
       " '최초',\n",
       " '인간',\n",
       " '집필',\n",
       " '작업',\n",
       " '자동차',\n",
       " '사고',\n",
       " '생',\n",
       " '경북',\n",
       " '영주',\n",
       " '출생',\n",
       " '문학평론가',\n",
       " '이자',\n",
       " '고려대학교',\n",
       " '명예',\n",
       " '교수',\n",
       " '서울대',\n",
       " '불어',\n",
       " '불문',\n",
       " '학과',\n",
       " '과',\n",
       " '대학원',\n",
       " '졸업',\n",
       " '프랑스',\n",
       " '프로방스',\n",
       " '대학교',\n",
       " '알베르',\n",
       " '카뮈',\n",
       " '연구',\n",
       " '문학',\n",
       " '박사',\n",
       " '학위',\n",
       " '안목',\n",
       " '유려',\n",
       " '문체',\n",
       " '프랑스',\n",
       " '대표',\n",
       " '문학',\n",
       " '작품',\n",
       " '국내',\n",
       " '소개',\n",
       " '고려대학교',\n",
       " '불문',\n",
       " '학과',\n",
       " '여',\n",
       " '년',\n",
       " '학생',\n",
       " '고려대학교',\n",
       " '시청각교육',\n",
       " '원장',\n",
       " '고려대학교',\n",
       " '도서관',\n",
       " '관장',\n",
       " '한국',\n",
       " '불어',\n",
       " '불문',\n",
       " '학회',\n",
       " '회장',\n",
       " '깊이',\n",
       " '분석',\n",
       " '평론',\n",
       " '전',\n",
       " '방위',\n",
       " '문학인',\n",
       " '최고',\n",
       " '불문학',\n",
       " '번역가',\n",
       " '선정',\n",
       " '바',\n",
       " '저서',\n",
       " '지중해',\n",
       " '내',\n",
       " '푸른',\n",
       " '영혼',\n",
       " '문학',\n",
       " '상상력',\n",
       " '연구',\n",
       " '알베르',\n",
       " '카뮈',\n",
       " '문학',\n",
       " '세계',\n",
       " '프',\n",
       " '로베르',\n",
       " '안녕',\n",
       " '예술',\n",
       " '성',\n",
       " '프랑스문학',\n",
       " '산책',\n",
       " '공간',\n",
       " '노트',\n",
       " '바람',\n",
       " '집',\n",
       " '소설',\n",
       " '꽃',\n",
       " '뿌리',\n",
       " '발자크',\n",
       " '플로베르',\n",
       " '행복',\n",
       " '충격',\n",
       " '미당',\n",
       " '서정주',\n",
       " '선집',\n",
       " '예감',\n",
       " '시간',\n",
       " '파도',\n",
       " '지은',\n",
       " '성',\n",
       " '흔적',\n",
       " '알제리',\n",
       " '기행',\n",
       " '외',\n",
       " '다수',\n",
       " '역서',\n",
       " '알베르',\n",
       " '카뮈',\n",
       " '전집',\n",
       " '전',\n",
       " '권',\n",
       " '알베르',\n",
       " '카뮈',\n",
       " '프랑스',\n",
       " '현대',\n",
       " '시사',\n",
       " '섬',\n",
       " '청춘',\n",
       " '시절',\n",
       " '프랑스',\n",
       " '비평',\n",
       " '이해',\n",
       " '오늘',\n",
       " '프랑스',\n",
       " '철학사',\n",
       " '곱추',\n",
       " '침묵',\n",
       " '새',\n",
       " '페루',\n",
       " '방드르디',\n",
       " '태평양',\n",
       " '끝',\n",
       " '팔월',\n",
       " '일요일',\n",
       " '추억',\n",
       " '완성',\n",
       " '위',\n",
       " '어',\n",
       " '두운',\n",
       " '상점',\n",
       " '거리',\n",
       " '글',\n",
       " '침묵',\n",
       " '마담',\n",
       " '보',\n",
       " '바리',\n",
       " '예찬',\n",
       " '하루하루',\n",
       " '작별',\n",
       " '나날',\n",
       " '최초',\n",
       " '인간',\n",
       " '물',\n",
       " '거울',\n",
       " '걷기',\n",
       " '예찬',\n",
       " '뒷모습',\n",
       " '내',\n",
       " '사랑',\n",
       " '개',\n",
       " '율리시즈',\n",
       " '이별',\n",
       " '시절',\n",
       " '등',\n",
       " '부',\n",
       " '부',\n",
       " '부',\n",
       " '부',\n",
       " '부',\n",
       " '작품',\n",
       " '해설',\n",
       " '작가',\n",
       " '연보',\n",
       " '요즘',\n",
       " '코로나',\n",
       " '시기',\n",
       " '명불허전',\n",
       " '보고',\n",
       " '구매',\n",
       " '유행병',\n",
       " '마주',\n",
       " '인간',\n",
       " '심리',\n",
       " '사회',\n",
       " '현상',\n",
       " '묘사',\n",
       " '감탄',\n",
       " '위기',\n",
       " '때',\n",
       " '나',\n",
       " '일',\n",
       " '마음',\n",
       " '울림',\n",
       " '상황',\n",
       " '대하',\n",
       " '각기',\n",
       " '다른',\n",
       " '사람',\n",
       " '우리',\n",
       " '볼',\n",
       " '생각',\n",
       " '퇴근',\n",
       " '시간',\n",
       " '시간',\n",
       " '낭비',\n",
       " '생각',\n",
       " '게다가',\n",
       " '코로나',\n",
       " '뒤',\n",
       " '지금',\n",
       " '현실',\n",
       " '꼭꼭',\n",
       " '게',\n",
       " '고전',\n",
       " '두고두고',\n",
       " '요즘',\n",
       " '상황',\n",
       " '번역',\n",
       " '국어',\n",
       " '표현',\n",
       " '후반',\n",
       " '해설',\n",
       " '작품',\n",
       " '이해',\n",
       " '도움',\n",
       " '코로나',\n",
       " '때문',\n",
       " '집콕',\n",
       " '소름',\n",
       " '정말',\n",
       " '요즘',\n",
       " '현실',\n",
       " '듯',\n",
       " '소설',\n",
       " '코로나바이러스',\n",
       " '사태',\n",
       " '겹',\n",
       " '부분',\n",
       " '본질',\n",
       " '대한',\n",
       " '두려움',\n",
       " '해도',\n",
       " '본질',\n",
       " '결코',\n",
       " '다른',\n",
       " '한편',\n",
       " '사회',\n",
       " '패닉',\n",
       " '공포',\n",
       " '본질',\n",
       " '해결',\n",
       " '의지',\n",
       " '공포',\n",
       " '걸',\n",
       " '시대',\n",
       " '작가',\n",
       " '천재',\n",
       " '현',\n",
       " '상황',\n",
       " '이해',\n",
       " '도움',\n",
       " '줄',\n",
       " '몇번',\n",
       " '코로나',\n",
       " '전염병',\n",
       " '번역',\n",
       " '국어',\n",
       " '표현',\n",
       " '후반',\n",
       " '해설',\n",
       " '작품',\n",
       " '이해',\n",
       " '도움',\n",
       " '코로나바이러스',\n",
       " '사태',\n",
       " '겹',\n",
       " '부분',\n",
       " '본질',\n",
       " '대한',\n",
       " '두려움',\n",
       " '해도',\n",
       " '본질',\n",
       " '결코',\n",
       " '다른',\n",
       " '한편',\n",
       " '사회',\n",
       " '패닉',\n",
       " '공포',\n",
       " '본질',\n",
       " '해결',\n",
       " '의지',\n",
       " '공포',\n",
       " '걸',\n",
       " '시대',\n",
       " '작가',\n",
       " '천재',\n",
       " '현',\n",
       " '상황',\n",
       " '이해',\n",
       " '도움',\n",
       " '줄',\n",
       " '몇번',\n",
       " '코로나',\n",
       " '전염병',\n",
       " '시대',\n",
       " '꼭',\n",
       " '지금',\n",
       " '더',\n",
       " '굿',\n",
       " '덕분',\n",
       " '우리',\n",
       " '내용',\n",
       " '요즘',\n",
       " '재',\n",
       " '조명',\n",
       " '번',\n",
       " '보고',\n",
       " '요즘',\n",
       " '재',\n",
       " '조명',\n",
       " '번',\n",
       " '보고',\n",
       " '요즘',\n",
       " '재',\n",
       " '조명',\n",
       " '번',\n",
       " '보고',\n",
       " '고등학생',\n",
       " '딸아이',\n",
       " '독서',\n",
       " '교재',\n",
       " '구입',\n",
       " '아주',\n",
       " '이제야',\n",
       " '나',\n",
       " '자신',\n",
       " '계기',\n",
       " '알베르',\n",
       " '카뮈',\n",
       " '존경',\n",
       " '페스트',\n",
       " '거울',\n",
       " '몇몇',\n",
       " '인간',\n",
       " '자화상',\n",
       " '인간',\n",
       " '부조리',\n",
       " '대해',\n",
       " '카뮈',\n",
       " '말',\n",
       " '아주',\n",
       " '기대',\n",
       " '문학',\n",
       " '명작',\n",
       " '고전',\n",
       " '명작',\n",
       " '알베르',\n",
       " '카뮈',\n",
       " '두번째',\n",
       " '이방인',\n",
       " '다이나믹',\n",
       " '알베르',\n",
       " '카뮈',\n",
       " '이방인',\n",
       " '다음',\n",
       " '뭔가',\n",
       " '알멩',\n",
       " '작가',\n",
       " '카뮈',\n",
       " '팬',\n",
       " '라면',\n",
       " '조금',\n",
       " '소장',\n",
       " '재밋어',\n",
       " '기대',\n",
       " '까뮈',\n",
       " '때',\n",
       " '느낌',\n",
       " '다른',\n",
       " '페스트',\n",
       " '아이',\n",
       " '추천',\n",
       " '내적',\n",
       " '고통',\n",
       " '페스트',\n",
       " '리',\n",
       " '유가',\n",
       " '객관',\n",
       " '서술',\n",
       " '함',\n",
       " '우리',\n",
       " '생각',\n",
       " '거리',\n",
       " '기대']"
      ]
     },
     "execution_count": 10,
     "metadata": {},
     "output_type": "execute_result"
    }
   ],
   "source": [
    "stop_words = ['책', '.', '(', ')', ',', \"'\", '%', '-', 'X', ').', 'x', '의', '자', '에', '안', '변', '호', '을', '이', '다', '만', '로', '가', '를', '것', '그', '이', '관', '수']\n",
    "\n",
    "ko = [each_word for each_word in ko if each_word not in stop_words]\n",
    "ko"
   ]
  },
  {
   "cell_type": "code",
   "execution_count": 11,
   "metadata": {
    "slideshow": {
     "slide_type": "slide"
    }
   },
   "outputs": [
    {
     "data": {
      "image/png": "[encoded data removed]",
      "text/plain": [
       "<Figure size 1440x432 with 1 Axes>"
      ]
     },
     "metadata": {
      "image/png": {
       "height": 432,
       "width": 1162
      },
      "needs_background": "light"
     },
     "output_type": "display_data"
    }
   ],
   "source": [
    "ko = nltk.Text(ko, name=\"카뮈_페스트\")\n",
    "\n",
    "plt.figure(figsize=(20, 6))\n",
    "ko.plot(100)\n",
    "plt.show()"
   ]
  },
  {
   "cell_type": "markdown",
   "metadata": {
    "slideshow": {
     "slide_type": "slide"
    }
   },
   "source": [
    "### 코로나 단어가 14위에 오른 걸 보면, 리뷰데이터에 있던 코로나 언급이 많았다는 걸 알 수 있음 "
   ]
  },
  {
   "cell_type": "code",
   "execution_count": 12,
   "metadata": {},
   "outputs": [
    {
     "data": {
      "text/plain": [
       "5"
      ]
     },
     "execution_count": 12,
     "metadata": {},
     "output_type": "execute_result"
    }
   ],
   "source": [
    "ko.count('코로나')"
   ]
  },
  {
   "cell_type": "code",
   "execution_count": 13,
   "metadata": {},
   "outputs": [
    {
     "name": "stdout",
     "output_type": "stream",
     "text": [
      "Displaying 5 of 5 matches:\n",
      "율리시즈 이별 시절 등 부 부 부 부 부 작품 해설 작가 연보 요즘 코로나 시기 명불허전 보고 구매 유행병 마주 인간 심리 사회 현상 묘사 감\n",
      "하 각기 다른 사람 우리 볼 생각 퇴근 시간 시간 낭비 생각 게다가 코로나 뒤 지금 현실 꼭꼭 게 고전 두고두고 요즘 상황 번역 국어 표현 후\n",
      "고전 두고두고 요즘 상황 번역 국어 표현 후반 해설 작품 이해 도움 코로나 때문 집콕 소름 정말 요즘 현실 듯 소설 코로나바이러스 사태 겹 부\n",
      "질 해결 의지 공포 걸 시대 작가 천재 현 상황 이해 도움 줄 몇번 코로나 전염병 번역 국어 표현 후반 해설 작품 이해 도움 코로나바이러스 사\n",
      "질 해결 의지 공포 걸 시대 작가 천재 현 상황 이해 도움 줄 몇번 코로나 전염병 시대 꼭 지금 더 굿 덕분 우리 내용 요즘 재 조명 번 보고\n"
     ]
    }
   ],
   "source": [
    "ko.concordance('코로나')"
   ]
  },
  {
   "cell_type": "code",
   "execution_count": 14,
   "metadata": {
    "slideshow": {
     "slide_type": "slide"
    }
   },
   "outputs": [
    {
     "data": {
      "image/png": "[encoded data removed]",
      "text/plain": [
       "<Figure size 864x576 with 1 Axes>"
      ]
     },
     "metadata": {
      "image/png": {
       "height": 349,
       "width": 683
      },
      "needs_background": "light"
     },
     "output_type": "display_data"
    }
   ],
   "source": [
    "from wordcloud import WordCloud\n",
    "\n",
    "data = ko.vocab().most_common(200)\n",
    "\n",
    "wordcloud =  WordCloud(font_path=f_path, relative_scaling = 0.2, \n",
    "                      background_color='white',\n",
    "                      ).generate_from_frequencies(dict(data))\n",
    "\n",
    "plt.figure(figsize=(12, 8))\n",
    "plt.imshow(wordcloud)\n",
    "plt.axis(\"off\")\n",
    "plt.show()"
   ]
  },
  {
   "cell_type": "markdown",
   "metadata": {
    "slideshow": {
     "slide_type": "slide"
    }
   },
   "source": [
    "### 헤세_데미안\n",
    "- 좋아하는 책\n",
    "- tvN <책을 읽어드립니다>에 소개\n",
    "- 원래도 유명한 고전이라 저자권 기한도 만료되어 여러 출판사에서 출판\n",
    "- 이중 '더스토리'란 출판사(미니 사이즈 책)에서 초판 디자인을 차용해 출간 해 '소장가치 높다'는 리뷰가 많음"
   ]
  },
  {
   "cell_type": "code",
   "execution_count": 15,
   "metadata": {},
   "outputs": [
    {
     "data": {
      "text/html": [
       "<div>\n",
       "<style scoped>\n",
       "    .dataframe tbody tr th:only-of-type {\n",
       "        vertical-align: middle;\n",
       "    }\n",
       "\n",
       "    .dataframe tbody tr th {\n",
       "        vertical-align: top;\n",
       "    }\n",
       "\n",
       "    .dataframe thead th {\n",
       "        text-align: right;\n",
       "    }\n",
       "</style>\n",
       "<table border=\"1\" class=\"dataframe\">\n",
       "  <thead>\n",
       "    <tr style=\"text-align: right;\">\n",
       "      <th></th>\n",
       "      <th>category</th>\n",
       "      <th>seogi_nl_clear</th>\n",
       "      <th>ISBN</th>\n",
       "      <th>title</th>\n",
       "      <th>author</th>\n",
       "      <th>publisher</th>\n",
       "      <th>price</th>\n",
       "      <th>width</th>\n",
       "      <th>length</th>\n",
       "      <th>thick</th>\n",
       "      <th>weight</th>\n",
       "      <th>page(쪽)</th>\n",
       "      <th>grade</th>\n",
       "      <th>grade_count</th>\n",
       "      <th>summary</th>\n",
       "      <th>review</th>\n",
       "    </tr>\n",
       "  </thead>\n",
       "  <tbody>\n",
       "    <tr>\n",
       "      <td>340</td>\n",
       "      <td>5</td>\n",
       "      <td>04850</td>\n",
       "      <td>9788937460449</td>\n",
       "      <td>데미안</td>\n",
       "      <td>헤르만 헤세</td>\n",
       "      <td>민음사</td>\n",
       "      <td>8000</td>\n",
       "      <td>132</td>\n",
       "      <td>225</td>\n",
       "      <td></td>\n",
       "      <td>NaN</td>\n",
       "      <td>240</td>\n",
       "      <td>188</td>\n",
       "      <td>49</td>\n",
       "      <td>현실에 대결하는 영혼의 발전을 담은 헤르만 헤세의 걸작 『데미안』. 독일 문학의 거...</td>\n",
       "      <td>주변과 유튜브에서도 많이 추천해주길래 첫 시작은 이책이다 하고\\r\\n제 돈주고 처음...</td>\n",
       "    </tr>\n",
       "  </tbody>\n",
       "</table>\n",
       "</div>"
      ],
      "text/plain": [
       "     category seogi_nl_clear           ISBN title  author publisher  price  \\\n",
       "340         5          04850  9788937460449   데미안  헤르만 헤세       민음사   8000   \n",
       "\n",
       "     width  length thick weight  page(쪽)  grade  grade_count  \\\n",
       "340    132     225          NaN      240    188           49   \n",
       "\n",
       "                                               summary  \\\n",
       "340  현실에 대결하는 영혼의 발전을 담은 헤르만 헤세의 걸작 『데미안』. 독일 문학의 거...   \n",
       "\n",
       "                                                review  \n",
       "340  주변과 유튜브에서도 많이 추천해주길래 첫 시작은 이책이다 하고\\r\\n제 돈주고 처음...  "
      ]
     },
     "execution_count": 15,
     "metadata": {},
     "output_type": "execute_result"
    }
   ],
   "source": [
    "final_top3_df[final_top3_df[\"title\"] == \"데미안\"]"
   ]
  },
  {
   "cell_type": "code",
   "execution_count": 16,
   "metadata": {},
   "outputs": [],
   "source": [
    "novel2 = open('./헤르만헤세_데미안.txt', encoding=\"utf-8\").read()"
   ]
  },
  {
   "cell_type": "code",
   "execution_count": 17,
   "metadata": {},
   "outputs": [
    {
     "data": {
      "text/plain": [
       "['세기',\n",
       " '독일',\n",
       " '문학가',\n",
       " '가운데',\n",
       " '우리나라',\n",
       " '독자',\n",
       " '가장',\n",
       " '작가',\n",
       " '꼽으',\n",
       " '단연',\n",
       " '헤르',\n",
       " '헤세',\n",
       " '일',\n",
       " '것',\n",
       " '내면',\n",
       " '탐구',\n",
       " '이자',\n",
       " '자아',\n",
       " '성찰',\n",
       " '대표',\n",
       " '작가',\n",
       " '헤르',\n",
       " '헤세',\n",
       " '휴머니즘',\n",
       " '지향',\n",
       " '고뇌',\n",
       " '청춘',\n",
       " '자연',\n",
       " '대한',\n",
       " '동경',\n",
       " '인간',\n",
       " '양면',\n",
       " '등',\n",
       " '작품',\n",
       " '도서',\n",
       " '출판',\n",
       " '더스토리',\n",
       " '헤르',\n",
       " '헤세',\n",
       " '탄생',\n",
       " '주년',\n",
       " '기념',\n",
       " '헤르',\n",
       " '헤세',\n",
       " '대표',\n",
       " '작',\n",
       " '데미안',\n",
       " '초',\n",
       " '호화',\n",
       " '패',\n",
       " '브릭',\n",
       " '양장',\n",
       " '제작',\n",
       " '패',\n",
       " '브릭',\n",
       " '특유',\n",
       " '색감',\n",
       " '감촉',\n",
       " '출판',\n",
       " '독일',\n",
       " '피셔',\n",
       " '출판사',\n",
       " '초',\n",
       " '판본',\n",
       " '표지',\n",
       " '디자인',\n",
       " '그대로',\n",
       " '소장',\n",
       " '가치',\n",
       " '한층',\n",
       " '또한',\n",
       " '실로',\n",
       " '정통',\n",
       " '사철',\n",
       " '제본',\n",
       " '통해',\n",
       " '책',\n",
       " '구성',\n",
       " '높이',\n",
       " '독일',\n",
       " '대표',\n",
       " '표지',\n",
       " '제작',\n",
       " '방식',\n",
       " '중',\n",
       " '하나',\n",
       " '초코',\n",
       " '박',\n",
       " '재현',\n",
       " '리지',\n",
       " '널',\n",
       " '초판',\n",
       " '본의',\n",
       " '품격',\n",
       " '가치',\n",
       " '헤르',\n",
       " '헤세',\n",
       " '전문',\n",
       " '번역자',\n",
       " '이자',\n",
       " '독일',\n",
       " '문학',\n",
       " '연구자',\n",
       " '역자',\n",
       " '깊이',\n",
       " '번역',\n",
       " '자서전',\n",
       " '철학',\n",
       " '헤르',\n",
       " '헤세',\n",
       " '문학',\n",
       " '감동',\n",
       " '고스',\n",
       " '란',\n",
       " '전',\n",
       " '것',\n",
       " '저자',\n",
       " '헤르',\n",
       " '헤세',\n",
       " '독일',\n",
       " '남부',\n",
       " '뷔르템베르크',\n",
       " '칼프',\n",
       " '목사',\n",
       " '아버지',\n",
       " '학계',\n",
       " '집안',\n",
       " '어머니',\n",
       " '밑',\n",
       " '신학교',\n",
       " '시험',\n",
       " '준비',\n",
       " '위해',\n",
       " '괴핑엔',\n",
       " '라틴어',\n",
       " '학교',\n",
       " '뷔르템베르크',\n",
       " '국가',\n",
       " '시험',\n",
       " '합격',\n",
       " '마울브론',\n",
       " '수도원',\n",
       " '학교',\n",
       " '입학',\n",
       " '기숙사',\n",
       " '생활',\n",
       " '못',\n",
       " '시인',\n",
       " '위해',\n",
       " '낭만',\n",
       " '주의',\n",
       " '문학',\n",
       " '심취',\n",
       " '첫',\n",
       " '시집',\n",
       " '낭만',\n",
       " '노래',\n",
       " '산문',\n",
       " '집',\n",
       " '자정',\n",
       " '이후',\n",
       " '시간',\n",
       " '간',\n",
       " '첫',\n",
       " '시집',\n",
       " '낭만',\n",
       " '노래',\n",
       " '라이너',\n",
       " '마리아',\n",
       " '릴케',\n",
       " '인정',\n",
       " '문단',\n",
       " '헤세',\n",
       " '주목',\n",
       " '시작',\n",
       " '이후',\n",
       " '장편',\n",
       " '소설',\n",
       " '페터',\n",
       " '카멘친트',\n",
       " '를',\n",
       " '통해',\n",
       " '유명',\n",
       " '세',\n",
       " '문학',\n",
       " '지위',\n",
       " '해',\n",
       " '아홉',\n",
       " '살',\n",
       " '연상',\n",
       " '피아니스트',\n",
       " '마리아',\n",
       " '베르누이',\n",
       " '결혼',\n",
       " '이혼',\n",
       " '스위스',\n",
       " '국적',\n",
       " '취득',\n",
       " '자전',\n",
       " '소설',\n",
       " '수레바퀴',\n",
       " '아래',\n",
       " '를',\n",
       " '간',\n",
       " '자기',\n",
       " '인식',\n",
       " '과정',\n",
       " '고찰',\n",
       " '데미안',\n",
       " '과',\n",
       " '동화',\n",
       " '차라투스트라',\n",
       " '귀환',\n",
       " '간',\n",
       " '인도',\n",
       " '여행',\n",
       " '통한',\n",
       " '체험',\n",
       " '간',\n",
       " '싯다르타',\n",
       " '투영',\n",
       " '유리',\n",
       " '알',\n",
       " '유희',\n",
       " '로',\n",
       " '노벨문학상',\n",
       " '괴테',\n",
       " '동시',\n",
       " '뇌출혈',\n",
       " '세상',\n",
       " '때',\n",
       " '자기',\n",
       " '실현',\n",
       " '위해',\n",
       " '한시',\n",
       " '쉬',\n",
       " '노력',\n",
       " '역자',\n",
       " '학',\n",
       " '세상',\n",
       " '인생',\n",
       " '지속',\n",
       " '고통',\n",
       " '문학',\n",
       " '힘',\n",
       " '역할',\n",
       " '시인',\n",
       " '사상가',\n",
       " '나라',\n",
       " '독일',\n",
       " '내면',\n",
       " '탐구',\n",
       " '헤르',\n",
       " '헤세',\n",
       " '매료',\n",
       " '독일',\n",
       " '문학',\n",
       " '독어',\n",
       " '교수',\n",
       " '법',\n",
       " '공부',\n",
       " '세상',\n",
       " '경계',\n",
       " '방황',\n",
       " '내면',\n",
       " '탐구',\n",
       " '헤르',\n",
       " '헤세',\n",
       " '작품',\n",
       " '주로',\n",
       " '번역',\n",
       " '책',\n",
       " '데미안',\n",
       " '수레바퀴',\n",
       " '아래',\n",
       " '서문',\n",
       " '세계',\n",
       " '카인',\n",
       " '예수',\n",
       " '옆',\n",
       " '도둑',\n",
       " '베',\n",
       " '아트리',\n",
       " '체',\n",
       " '알',\n",
       " '투쟁',\n",
       " '표적',\n",
       " '야곱',\n",
       " '싸움',\n",
       " '에바',\n",
       " '부인',\n",
       " '종말',\n",
       " '시작',\n",
       " '작품',\n",
       " '해설',\n",
       " '작가',\n",
       " '연보',\n",
       " '청소년기',\n",
       " '내',\n",
       " '책',\n",
       " '아이',\n",
       " '자아',\n",
       " '찾기',\n",
       " '청소년기',\n",
       " '필독',\n",
       " '시절',\n",
       " '나',\n",
       " '공감',\n",
       " '책',\n",
       " '책표지',\n",
       " '마음',\n",
       " '데미안',\n",
       " '불구',\n",
       " '구매',\n",
       " '표지',\n",
       " '고전',\n",
       " '장용',\n",
       " '구입',\n",
       " '예전',\n",
       " '요즘',\n",
       " '집',\n",
       " '폰',\n",
       " '제',\n",
       " '책',\n",
       " '권',\n",
       " '책',\n",
       " '책',\n",
       " '데미안',\n",
       " '예전',\n",
       " '기억',\n",
       " '또',\n",
       " '전',\n",
       " '책',\n",
       " '결혼',\n",
       " '친정',\n",
       " '어딘갔는',\n",
       " '여',\n",
       " '데미안',\n",
       " '추천',\n",
       " '기분',\n",
       " '책',\n",
       " '꿈',\n",
       " '조언',\n",
       " '정독',\n",
       " '정말',\n",
       " '새해',\n",
       " '시작',\n",
       " '이',\n",
       " '책',\n",
       " '학창시절',\n",
       " '데미안',\n",
       " '리',\n",
       " '커버',\n",
       " '다시',\n",
       " '데미안',\n",
       " '표지',\n",
       " '고급',\n",
       " '지네',\n",
       " '시간',\n",
       " '사람',\n",
       " '이유',\n",
       " '음',\n",
       " '다시금',\n",
       " '해',\n",
       " '작품',\n",
       " '요',\n",
       " '초판',\n",
       " '장용',\n",
       " '데미안',\n",
       " '출판사',\n",
       " '별로',\n",
       " '권',\n",
       " '가지',\n",
       " '자아',\n",
       " '성장',\n",
       " '작가',\n",
       " '내면',\n",
       " '알',\n",
       " '투쟁',\n",
       " '알',\n",
       " '세계',\n",
       " '세계',\n",
       " '신',\n",
       " '신의',\n",
       " '이름',\n",
       " '아브락사스',\n",
       " '데미안',\n",
       " '쉰',\n",
       " '살이',\n",
       " '난건',\n",
       " '절망',\n",
       " '이자',\n",
       " '다행',\n",
       " '산산',\n",
       " '간',\n",
       " '싱클레어',\n",
       " '기억',\n",
       " '주체',\n",
       " '고독',\n",
       " '마주',\n",
       " '이제',\n",
       " '다시',\n",
       " '내',\n",
       " '구원',\n",
       " '데미안',\n",
       " '시간',\n",
       " '영혼',\n",
       " '길',\n",
       " '인도',\n",
       " '헤세',\n",
       " '무한',\n",
       " '감사',\n",
       " '바치',\n",
       " '데미안',\n",
       " '싱클레어',\n",
       " '자아',\n",
       " '찾기',\n",
       " '베스트셀러',\n",
       " '이유',\n",
       " '데미안',\n",
       " '출판사',\n",
       " '별로',\n",
       " '권',\n",
       " '가지',\n",
       " '자아',\n",
       " '성장',\n",
       " '작가',\n",
       " '내면',\n",
       " '알',\n",
       " '투쟁',\n",
       " '알',\n",
       " '세계',\n",
       " '세계',\n",
       " '신',\n",
       " '신의',\n",
       " '이름',\n",
       " '아브락사스',\n",
       " '데미안',\n",
       " '쉰',\n",
       " '살이',\n",
       " '난건',\n",
       " '절망',\n",
       " '이자',\n",
       " '다행',\n",
       " '산산',\n",
       " '간',\n",
       " '싱클레어',\n",
       " '기억',\n",
       " '주체',\n",
       " '고독',\n",
       " '마주',\n",
       " '이제',\n",
       " '다시',\n",
       " '내',\n",
       " '구원',\n",
       " '데미안',\n",
       " '시간',\n",
       " '영혼',\n",
       " '길',\n",
       " '인도',\n",
       " '헤세',\n",
       " '무한',\n",
       " '감사',\n",
       " '바치',\n",
       " '데미안',\n",
       " '싱클레어',\n",
       " '자아',\n",
       " '찾기',\n",
       " '그',\n",
       " '자기계발',\n",
       " '성찰',\n",
       " '준',\n",
       " '책',\n",
       " '번역',\n",
       " '살짝',\n",
       " '한정판',\n",
       " '때',\n",
       " '감동',\n",
       " '고전',\n",
       " '하나',\n",
       " '표지',\n",
       " '디자인',\n",
       " '사이즈',\n",
       " '패',\n",
       " '브릭',\n",
       " '질감',\n",
       " '맘',\n",
       " '인생',\n",
       " '보아',\n",
       " '그',\n",
       " '자기계발',\n",
       " '성찰',\n",
       " '준',\n",
       " '책',\n",
       " '번역',\n",
       " '살짝',\n",
       " '한정판',\n",
       " '때',\n",
       " '감동',\n",
       " '고전',\n",
       " '하나',\n",
       " '표지',\n",
       " '디자인',\n",
       " '사이즈',\n",
       " '패',\n",
       " '브릭',\n",
       " '질감',\n",
       " '맘',\n",
       " '인생',\n",
       " '보아',\n",
       " '그',\n",
       " '자기계발',\n",
       " '성찰',\n",
       " '준',\n",
       " '책',\n",
       " '번역',\n",
       " '살짝',\n",
       " '한정판',\n",
       " '때',\n",
       " '감동',\n",
       " '고전',\n",
       " '하나',\n",
       " '표지',\n",
       " '디자인',\n",
       " '사이즈',\n",
       " '패',\n",
       " '브릭',\n",
       " '질감',\n",
       " '맘',\n",
       " '인생',\n",
       " '보아',\n",
       " '데미안',\n",
       " '대마',\n",
       " '책',\n",
       " '지금',\n",
       " '데미안',\n",
       " '무슨',\n",
       " '말',\n",
       " '해',\n",
       " '줄',\n",
       " '기대',\n",
       " '역시',\n",
       " '데미안',\n",
       " '굿',\n",
       " '데미안',\n",
       " '책',\n",
       " '보고',\n",
       " '주문',\n",
       " '예전',\n",
       " '다시',\n",
       " '나이',\n",
       " '니',\n",
       " '또',\n",
       " '보고',\n",
       " '구매',\n",
       " '아들',\n",
       " '소장',\n",
       " '책',\n",
       " '책',\n",
       " '프로그램',\n",
       " '보고',\n",
       " '구입',\n",
       " '청소년',\n",
       " '시절',\n",
       " '기억',\n",
       " '감동',\n",
       " '내',\n",
       " '인생',\n",
       " '책',\n",
       " '싱클레어',\n",
       " '손',\n",
       " '준',\n",
       " '동경',\n",
       " '데미안',\n",
       " '데미안',\n",
       " '이야기',\n",
       " '자유',\n",
       " '다시',\n",
       " '확신',\n",
       " '이',\n",
       " '자유',\n",
       " '믿음',\n",
       " '싱클레어',\n",
       " '그',\n",
       " '생각',\n",
       " '데미안',\n",
       " '초록빛',\n",
       " '눈',\n",
       " '고정',\n",
       " '눈동자',\n",
       " '그',\n",
       " '인물',\n",
       " '싱클레어',\n",
       " '그린',\n",
       " '그림',\n",
       " '속',\n",
       " '데미안',\n",
       " '머리칼',\n",
       " '빛',\n",
       " '도',\n",
       " '갈색',\n",
       " '턱',\n",
       " '입술',\n",
       " '꽃잎',\n",
       " '인상',\n",
       " '아주',\n",
       " '생명력',\n",
       " '이미지',\n",
       " '내면',\n",
       " '목소리',\n",
       " '귀',\n",
       " '수',\n",
       " '시간',\n",
       " '흡입',\n",
       " '문장',\n",
       " '하나',\n",
       " '하나',\n",
       " '철학',\n",
       " '자기',\n",
       " '자신',\n",
       " '고독',\n",
       " '그',\n",
       " '길',\n",
       " '끝',\n",
       " '말',\n",
       " '것',\n",
       " '부분',\n",
       " '갈수록',\n",
       " '책',\n",
       " '지인',\n",
       " '선물',\n",
       " '다시',\n",
       " '데미안']"
      ]
     },
     "execution_count": 17,
     "metadata": {},
     "output_type": "execute_result"
    }
   ],
   "source": [
    "from konlpy.tag import Okt;\n",
    "t = Okt()\n",
    "tokens_ko2 = t.nouns(novel2)\n",
    "tokens_ko2"
   ]
  },
  {
   "cell_type": "code",
   "execution_count": 18,
   "metadata": {},
   "outputs": [],
   "source": [
    "ko2 = nltk.Text(tokens_ko2, name=\"헤르만헤세_데미안\")"
   ]
  },
  {
   "cell_type": "code",
   "execution_count": 19,
   "metadata": {},
   "outputs": [
    {
     "name": "stdout",
     "output_type": "stream",
     "text": [
      "633\n",
      "348\n"
     ]
    },
    {
     "data": {
      "text/plain": [
       "FreqDist({'데미안': 25, '책': 19, '헤세': 12, '헤르': 9, '독일': 7, '표지': 7, '싱클레어': 7, '내면': 6, '자아': 6, '하나': 6, ...})"
      ]
     },
     "execution_count": 19,
     "metadata": {},
     "output_type": "execute_result"
    }
   ],
   "source": [
    "print(len(ko2.tokens))\n",
    "print(len(set(ko2.tokens)))\n",
    "ko2.vocab()"
   ]
  },
  {
   "cell_type": "code",
   "execution_count": 20,
   "metadata": {},
   "outputs": [
    {
     "data": {
      "text/plain": [
       "['세기',\n",
       " '독일',\n",
       " '문학가',\n",
       " '가운데',\n",
       " '우리나라',\n",
       " '독자',\n",
       " '가장',\n",
       " '작가',\n",
       " '꼽으',\n",
       " '단연',\n",
       " '헤르',\n",
       " '헤세',\n",
       " '일',\n",
       " '내면',\n",
       " '탐구',\n",
       " '이자',\n",
       " '자아',\n",
       " '성찰',\n",
       " '대표',\n",
       " '작가',\n",
       " '헤르',\n",
       " '헤세',\n",
       " '휴머니즘',\n",
       " '지향',\n",
       " '고뇌',\n",
       " '청춘',\n",
       " '자연',\n",
       " '대한',\n",
       " '동경',\n",
       " '인간',\n",
       " '양면',\n",
       " '등',\n",
       " '작품',\n",
       " '도서',\n",
       " '출판',\n",
       " '더스토리',\n",
       " '헤르',\n",
       " '헤세',\n",
       " '탄생',\n",
       " '주년',\n",
       " '기념',\n",
       " '헤르',\n",
       " '헤세',\n",
       " '대표',\n",
       " '작',\n",
       " '데미안',\n",
       " '초',\n",
       " '호화',\n",
       " '패',\n",
       " '브릭',\n",
       " '양장',\n",
       " '제작',\n",
       " '패',\n",
       " '브릭',\n",
       " '특유',\n",
       " '색감',\n",
       " '감촉',\n",
       " '출판',\n",
       " '독일',\n",
       " '피셔',\n",
       " '출판사',\n",
       " '초',\n",
       " '판본',\n",
       " '표지',\n",
       " '디자인',\n",
       " '그대로',\n",
       " '소장',\n",
       " '가치',\n",
       " '한층',\n",
       " '또한',\n",
       " '실로',\n",
       " '정통',\n",
       " '사철',\n",
       " '제본',\n",
       " '통해',\n",
       " '구성',\n",
       " '높이',\n",
       " '독일',\n",
       " '대표',\n",
       " '표지',\n",
       " '제작',\n",
       " '방식',\n",
       " '중',\n",
       " '하나',\n",
       " '초코',\n",
       " '박',\n",
       " '재현',\n",
       " '리지',\n",
       " '널',\n",
       " '초판',\n",
       " '본의',\n",
       " '품격',\n",
       " '가치',\n",
       " '헤르',\n",
       " '헤세',\n",
       " '전문',\n",
       " '번역자',\n",
       " '이자',\n",
       " '독일',\n",
       " '문학',\n",
       " '연구자',\n",
       " '역자',\n",
       " '깊이',\n",
       " '번역',\n",
       " '자서전',\n",
       " '철학',\n",
       " '헤르',\n",
       " '헤세',\n",
       " '문학',\n",
       " '감동',\n",
       " '고스',\n",
       " '란',\n",
       " '전',\n",
       " '저자',\n",
       " '헤르',\n",
       " '헤세',\n",
       " '독일',\n",
       " '남부',\n",
       " '뷔르템베르크',\n",
       " '칼프',\n",
       " '목사',\n",
       " '아버지',\n",
       " '학계',\n",
       " '집안',\n",
       " '어머니',\n",
       " '밑',\n",
       " '신학교',\n",
       " '시험',\n",
       " '준비',\n",
       " '위해',\n",
       " '괴핑엔',\n",
       " '라틴어',\n",
       " '학교',\n",
       " '뷔르템베르크',\n",
       " '국가',\n",
       " '시험',\n",
       " '합격',\n",
       " '마울브론',\n",
       " '수도원',\n",
       " '학교',\n",
       " '입학',\n",
       " '기숙사',\n",
       " '생활',\n",
       " '못',\n",
       " '시인',\n",
       " '위해',\n",
       " '낭만',\n",
       " '주의',\n",
       " '문학',\n",
       " '심취',\n",
       " '첫',\n",
       " '시집',\n",
       " '낭만',\n",
       " '노래',\n",
       " '산문',\n",
       " '집',\n",
       " '자정',\n",
       " '이후',\n",
       " '시간',\n",
       " '첫',\n",
       " '시집',\n",
       " '낭만',\n",
       " '노래',\n",
       " '라이너',\n",
       " '마리아',\n",
       " '릴케',\n",
       " '인정',\n",
       " '문단',\n",
       " '헤세',\n",
       " '주목',\n",
       " '시작',\n",
       " '이후',\n",
       " '장편',\n",
       " '소설',\n",
       " '페터',\n",
       " '카멘친트',\n",
       " '통해',\n",
       " '유명',\n",
       " '세',\n",
       " '문학',\n",
       " '지위',\n",
       " '아홉',\n",
       " '살',\n",
       " '연상',\n",
       " '피아니스트',\n",
       " '마리아',\n",
       " '베르누이',\n",
       " '결혼',\n",
       " '이혼',\n",
       " '스위스',\n",
       " '국적',\n",
       " '취득',\n",
       " '자전',\n",
       " '소설',\n",
       " '수레바퀴',\n",
       " '아래',\n",
       " '자기',\n",
       " '인식',\n",
       " '과정',\n",
       " '고찰',\n",
       " '데미안',\n",
       " '과',\n",
       " '동화',\n",
       " '차라투스트라',\n",
       " '귀환',\n",
       " '인도',\n",
       " '여행',\n",
       " '통한',\n",
       " '체험',\n",
       " '싯다르타',\n",
       " '투영',\n",
       " '유리',\n",
       " '알',\n",
       " '유희',\n",
       " '노벨문학상',\n",
       " '괴테',\n",
       " '동시',\n",
       " '뇌출혈',\n",
       " '세상',\n",
       " '자기',\n",
       " '실현',\n",
       " '위해',\n",
       " '한시',\n",
       " '쉬',\n",
       " '노력',\n",
       " '역자',\n",
       " '학',\n",
       " '세상',\n",
       " '인생',\n",
       " '지속',\n",
       " '고통',\n",
       " '문학',\n",
       " '힘',\n",
       " '역할',\n",
       " '시인',\n",
       " '사상가',\n",
       " '나라',\n",
       " '독일',\n",
       " '내면',\n",
       " '탐구',\n",
       " '헤르',\n",
       " '헤세',\n",
       " '매료',\n",
       " '독일',\n",
       " '문학',\n",
       " '독어',\n",
       " '교수',\n",
       " '법',\n",
       " '공부',\n",
       " '세상',\n",
       " '경계',\n",
       " '방황',\n",
       " '내면',\n",
       " '탐구',\n",
       " '헤르',\n",
       " '헤세',\n",
       " '작품',\n",
       " '주로',\n",
       " '번역',\n",
       " '데미안',\n",
       " '수레바퀴',\n",
       " '아래',\n",
       " '서문',\n",
       " '세계',\n",
       " '카인',\n",
       " '예수',\n",
       " '옆',\n",
       " '도둑',\n",
       " '베',\n",
       " '아트리',\n",
       " '체',\n",
       " '알',\n",
       " '투쟁',\n",
       " '표적',\n",
       " '야곱',\n",
       " '싸움',\n",
       " '에바',\n",
       " '부인',\n",
       " '종말',\n",
       " '시작',\n",
       " '작품',\n",
       " '해설',\n",
       " '작가',\n",
       " '연보',\n",
       " '청소년기',\n",
       " '아이',\n",
       " '자아',\n",
       " '찾기',\n",
       " '청소년기',\n",
       " '필독',\n",
       " '시절',\n",
       " '나',\n",
       " '공감',\n",
       " '책표지',\n",
       " '마음',\n",
       " '데미안',\n",
       " '불구',\n",
       " '구매',\n",
       " '표지',\n",
       " '고전',\n",
       " '장용',\n",
       " '구입',\n",
       " '예전',\n",
       " '요즘',\n",
       " '집',\n",
       " '폰',\n",
       " '제',\n",
       " '권',\n",
       " '데미안',\n",
       " '예전',\n",
       " '기억',\n",
       " '또',\n",
       " '전',\n",
       " '결혼',\n",
       " '친정',\n",
       " '어딘갔는',\n",
       " '여',\n",
       " '데미안',\n",
       " '추천',\n",
       " '기분',\n",
       " '꿈',\n",
       " '조언',\n",
       " '정독',\n",
       " '정말',\n",
       " '새해',\n",
       " '시작',\n",
       " '학창시절',\n",
       " '데미안',\n",
       " '리',\n",
       " '커버',\n",
       " '다시',\n",
       " '데미안',\n",
       " '표지',\n",
       " '고급',\n",
       " '지네',\n",
       " '시간',\n",
       " '사람',\n",
       " '이유',\n",
       " '음',\n",
       " '다시금',\n",
       " '작품',\n",
       " '요',\n",
       " '초판',\n",
       " '장용',\n",
       " '데미안',\n",
       " '출판사',\n",
       " '별로',\n",
       " '권',\n",
       " '가지',\n",
       " '자아',\n",
       " '성장',\n",
       " '작가',\n",
       " '내면',\n",
       " '알',\n",
       " '투쟁',\n",
       " '알',\n",
       " '세계',\n",
       " '세계',\n",
       " '신',\n",
       " '신의',\n",
       " '이름',\n",
       " '아브락사스',\n",
       " '데미안',\n",
       " '쉰',\n",
       " '살이',\n",
       " '난건',\n",
       " '절망',\n",
       " '이자',\n",
       " '다행',\n",
       " '산산',\n",
       " '싱클레어',\n",
       " '기억',\n",
       " '주체',\n",
       " '고독',\n",
       " '마주',\n",
       " '이제',\n",
       " '다시',\n",
       " '구원',\n",
       " '데미안',\n",
       " '시간',\n",
       " '영혼',\n",
       " '길',\n",
       " '인도',\n",
       " '헤세',\n",
       " '무한',\n",
       " '감사',\n",
       " '바치',\n",
       " '데미안',\n",
       " '싱클레어',\n",
       " '자아',\n",
       " '찾기',\n",
       " '베스트셀러',\n",
       " '이유',\n",
       " '데미안',\n",
       " '출판사',\n",
       " '별로',\n",
       " '권',\n",
       " '가지',\n",
       " '자아',\n",
       " '성장',\n",
       " '작가',\n",
       " '내면',\n",
       " '알',\n",
       " '투쟁',\n",
       " '알',\n",
       " '세계',\n",
       " '세계',\n",
       " '신',\n",
       " '신의',\n",
       " '이름',\n",
       " '아브락사스',\n",
       " '데미안',\n",
       " '쉰',\n",
       " '살이',\n",
       " '난건',\n",
       " '절망',\n",
       " '이자',\n",
       " '다행',\n",
       " '산산',\n",
       " '싱클레어',\n",
       " '기억',\n",
       " '주체',\n",
       " '고독',\n",
       " '마주',\n",
       " '이제',\n",
       " '다시',\n",
       " '구원',\n",
       " '데미안',\n",
       " '시간',\n",
       " '영혼',\n",
       " '길',\n",
       " '인도',\n",
       " '헤세',\n",
       " '무한',\n",
       " '감사',\n",
       " '바치',\n",
       " '데미안',\n",
       " '싱클레어',\n",
       " '자아',\n",
       " '찾기',\n",
       " '자기계발',\n",
       " '성찰',\n",
       " '번역',\n",
       " '살짝',\n",
       " '한정판',\n",
       " '감동',\n",
       " '고전',\n",
       " '하나',\n",
       " '표지',\n",
       " '디자인',\n",
       " '사이즈',\n",
       " '패',\n",
       " '브릭',\n",
       " '질감',\n",
       " '맘',\n",
       " '인생',\n",
       " '보아',\n",
       " '자기계발',\n",
       " '성찰',\n",
       " '번역',\n",
       " '살짝',\n",
       " '한정판',\n",
       " '감동',\n",
       " '고전',\n",
       " '하나',\n",
       " '표지',\n",
       " '디자인',\n",
       " '사이즈',\n",
       " '패',\n",
       " '브릭',\n",
       " '질감',\n",
       " '맘',\n",
       " '인생',\n",
       " '보아',\n",
       " '자기계발',\n",
       " '성찰',\n",
       " '번역',\n",
       " '살짝',\n",
       " '한정판',\n",
       " '감동',\n",
       " '고전',\n",
       " '하나',\n",
       " '표지',\n",
       " '디자인',\n",
       " '사이즈',\n",
       " '패',\n",
       " '브릭',\n",
       " '질감',\n",
       " '맘',\n",
       " '인생',\n",
       " '보아',\n",
       " '데미안',\n",
       " '대마',\n",
       " '지금',\n",
       " '데미안',\n",
       " '무슨',\n",
       " '말',\n",
       " '줄',\n",
       " '기대',\n",
       " '역시',\n",
       " '데미안',\n",
       " '굿',\n",
       " '데미안',\n",
       " '보고',\n",
       " '주문',\n",
       " '예전',\n",
       " '다시',\n",
       " '나이',\n",
       " '니',\n",
       " '또',\n",
       " '보고',\n",
       " '구매',\n",
       " '아들',\n",
       " '소장',\n",
       " '프로그램',\n",
       " '보고',\n",
       " '구입',\n",
       " '청소년',\n",
       " '시절',\n",
       " '기억',\n",
       " '감동',\n",
       " '인생',\n",
       " '싱클레어',\n",
       " '손',\n",
       " '동경',\n",
       " '데미안',\n",
       " '데미안',\n",
       " '이야기',\n",
       " '자유',\n",
       " '다시',\n",
       " '확신',\n",
       " '자유',\n",
       " '믿음',\n",
       " '싱클레어',\n",
       " '생각',\n",
       " '데미안',\n",
       " '초록빛',\n",
       " '눈',\n",
       " '고정',\n",
       " '눈동자',\n",
       " '인물',\n",
       " '싱클레어',\n",
       " '그린',\n",
       " '그림',\n",
       " '속',\n",
       " '데미안',\n",
       " '머리칼',\n",
       " '빛',\n",
       " '도',\n",
       " '갈색',\n",
       " '턱',\n",
       " '입술',\n",
       " '꽃잎',\n",
       " '인상',\n",
       " '아주',\n",
       " '생명력',\n",
       " '이미지',\n",
       " '내면',\n",
       " '목소리',\n",
       " '귀',\n",
       " '시간',\n",
       " '흡입',\n",
       " '문장',\n",
       " '하나',\n",
       " '하나',\n",
       " '철학',\n",
       " '자기',\n",
       " '자신',\n",
       " '고독',\n",
       " '길',\n",
       " '끝',\n",
       " '말',\n",
       " '부분',\n",
       " '갈수록',\n",
       " '지인',\n",
       " '선물',\n",
       " '다시',\n",
       " '데미안']"
      ]
     },
     "execution_count": 20,
     "metadata": {},
     "output_type": "execute_result"
    }
   ],
   "source": [
    "stop_words = ['책', '.', '(', ')', ',', \"'\", '%', '-', 'X', ').', 'x', '의', '자', '에', '안', '변', '호', '을', '이', '다', '만', '로', '가', '를', '것', '그', '이', '관', '수', '간', '앞', '때', '내', '준', '해']\n",
    "\n",
    "ko2 = [each_word for each_word in ko2 if each_word not in stop_words]\n",
    "ko2"
   ]
  },
  {
   "cell_type": "code",
   "execution_count": 21,
   "metadata": {
    "slideshow": {
     "slide_type": "slide"
    }
   },
   "outputs": [
    {
     "data": {
      "image/png": "[encoded data removed]",
      "text/plain": [
       "<Figure size 1440x432 with 1 Axes>"
      ]
     },
     "metadata": {
      "image/png": {
       "height": 422,
       "width": 1162
      },
      "needs_background": "light"
     },
     "output_type": "display_data"
    }
   ],
   "source": [
    "ko2 = nltk.Text(ko2, name=\"헤르만헤세_데미안\")\n",
    "\n",
    "plt.figure(figsize=(20, 6))\n",
    "ko2.plot(100)\n",
    "plt.show()"
   ]
  },
  {
   "cell_type": "code",
   "execution_count": 22,
   "metadata": {
    "slideshow": {
     "slide_type": "slide"
    }
   },
   "outputs": [
    {
     "name": "stdout",
     "output_type": "stream",
     "text": [
      "Displaying 3 of 3 matches:\n",
      " 호화 패 브릭 양장 제작 패 브릭 특유 색감 감촉 출판 독일 피셔 출판사 초 판본 표지 디자인 그대로 소장 가치 한층 또한 실로 정통 사철 \n",
      "지 고급 지네 시간 사람 이유 음 다시금 작품 요 초판 장용 데미안 출판사 별로 권 가지 자아 성장 작가 내면 알 투쟁 알 세계 세계 신 신의\n",
      " 무한 감사 바치 데미안 싱클레어 자아 찾기 베스트셀러 이유 데미안 출판사 별로 권 가지 자아 성장 작가 내면 알 투쟁 알 세계 세계 신 신의\n"
     ]
    }
   ],
   "source": [
    "ko2.concordance('출판사')"
   ]
  },
  {
   "cell_type": "code",
   "execution_count": 23,
   "metadata": {},
   "outputs": [
    {
     "name": "stdout",
     "output_type": "stream",
     "text": [
      "Displaying 7 of 7 matches:\n",
      "양장 제작 패 브릭 특유 색감 감촉 출판 독일 피셔 출판사 초 판본 표지 디자인 그대로 소장 가치 한층 또한 실로 정통 사철 제본 통해 구성\n",
      "장 가치 한층 또한 실로 정통 사철 제본 통해 구성 높이 독일 대표 표지 제작 방식 중 하나 초코 박 재현 리지 널 초판 본의 품격 가치 헤\n",
      "아 찾기 청소년기 필독 시절 나 공감 책표지 마음 데미안 불구 구매 표지 고전 장용 구입 예전 요즘 집 폰 제 권 데미안 예전 기억 또 전 \n",
      "꿈 조언 정독 정말 새해 시작 학창시절 데미안 리 커버 다시 데미안 표지 고급 지네 시간 사람 이유 음 다시금 작품 요 초판 장용 데미안 출\n",
      "싱클레어 자아 찾기 자기계발 성찰 번역 살짝 한정판 감동 고전 하나 표지 디자인 사이즈 패 브릭 질감 맘 인생 보아 자기계발 성찰 번역 살짝\n",
      "질감 맘 인생 보아 자기계발 성찰 번역 살짝 한정판 감동 고전 하나 표지 디자인 사이즈 패 브릭 질감 맘 인생 보아 자기계발 성찰 번역 살짝\n",
      "질감 맘 인생 보아 자기계발 성찰 번역 살짝 한정판 감동 고전 하나 표지 디자인 사이즈 패 브릭 질감 맘 인생 보아 데미안 대마 지금 데미안\n"
     ]
    }
   ],
   "source": [
    "ko2.concordance('표지')"
   ]
  },
  {
   "cell_type": "code",
   "execution_count": 24,
   "metadata": {
    "slideshow": {
     "slide_type": "slide"
    }
   },
   "outputs": [
    {
     "name": "stdout",
     "output_type": "stream",
     "text": [
      "Displaying 6 of 6 matches:\n",
      " 우리나라 독자 가장 작가 꼽으 단연 헤르 헤세 일 내면 탐구 이자 자아 성찰 대표 작가 헤르 헤세 휴머니즘 지향 고뇌 청춘 자연 대한 동경\n",
      "야곱 싸움 에바 부인 종말 시작 작품 해설 작가 연보 청소년기 아이 자아 찾기 청소년기 필독 시절 나 공감 책표지 마음 데미안 불구 구매 표\n",
      "람 이유 음 다시금 작품 요 초판 장용 데미안 출판사 별로 권 가지 자아 성장 작가 내면 알 투쟁 알 세계 세계 신 신의 이름 아브락사스 데\n",
      "원 데미안 시간 영혼 길 인도 헤세 무한 감사 바치 데미안 싱클레어 자아 찾기 베스트셀러 이유 데미안 출판사 별로 권 가지 자아 성장 작가 \n",
      "안 싱클레어 자아 찾기 베스트셀러 이유 데미안 출판사 별로 권 가지 자아 성장 작가 내면 알 투쟁 알 세계 세계 신 신의 이름 아브락사스 데\n",
      "원 데미안 시간 영혼 길 인도 헤세 무한 감사 바치 데미안 싱클레어 자아 찾기 자기계발 성찰 번역 살짝 한정판 감동 고전 하나 표지 디자인 \n"
     ]
    }
   ],
   "source": [
    "ko2.concordance('자아')"
   ]
  },
  {
   "cell_type": "code",
   "execution_count": 25,
   "metadata": {},
   "outputs": [
    {
     "name": "stdout",
     "output_type": "stream",
     "text": [
      "Displaying 2 of 2 matches:\n",
      "특유 색감 감촉 출판 독일 피셔 출판사 초 판본 표지 디자인 그대로 소장 가치 한층 또한 실로 정통 사철 제본 통해 구성 높이 독일 대표 표\n",
      "데미안 굿 데미안 보고 주문 예전 다시 나이 니 또 보고 구매 아들 소장 프로그램 보고 구입 청소년 시절 기억 감동 인생 싱클레어 손 동경 \n"
     ]
    }
   ],
   "source": [
    "ko2.concordance('소장')"
   ]
  },
  {
   "cell_type": "code",
   "execution_count": 26,
   "metadata": {},
   "outputs": [
    {
     "name": "stdout",
     "output_type": "stream",
     "text": [
      "Displaying 2 of 2 matches:\n",
      "색감 감촉 출판 독일 피셔 출판사 초 판본 표지 디자인 그대로 소장 가치 한층 또한 실로 정통 사철 제본 통해 구성 높이 독일 대표 표지 제\n",
      "표 표지 제작 방식 중 하나 초코 박 재현 리지 널 초판 본의 품격 가치 헤르 헤세 전문 번역자 이자 독일 문학 연구자 역자 깊이 번역 자서\n"
     ]
    }
   ],
   "source": [
    "ko2.concordance('가치')"
   ]
  },
  {
   "cell_type": "code",
   "execution_count": 27,
   "metadata": {
    "slideshow": {
     "slide_type": "slide"
    }
   },
   "outputs": [
    {
     "data": {
      "image/png": "[encoded data removed]",
      "text/plain": [
       "<Figure size 864x576 with 1 Axes>"
      ]
     },
     "metadata": {
      "image/png": {
       "height": 349,
       "width": 683
      },
      "needs_background": "light"
     },
     "output_type": "display_data"
    }
   ],
   "source": [
    "from wordcloud import WordCloud\n",
    "\n",
    "data = ko2.vocab().most_common(200)\n",
    "\n",
    "wordcloud =  WordCloud(font_path=f_path, relative_scaling = 0.2, \n",
    "                      background_color='white',\n",
    "                      ).generate_from_frequencies(dict(data))\n",
    "\n",
    "plt.figure(figsize=(12, 8))\n",
    "plt.imshow(wordcloud)\n",
    "plt.axis(\"off\")\n",
    "plt.show()"
   ]
  },
  {
   "cell_type": "markdown",
   "metadata": {
    "slideshow": {
     "slide_type": "slide"
    }
   },
   "source": [
    "### 추천 시스템\n",
    "- TfidVectorizer을 사용해, 책 소개/저자 소개/목차/리뷰 텍스트 데이터의 연관성을 학습\n",
    "- 함수를 만들어 책 타이틀을 입력하면 거리가 가장 가까운 책들을 반환"
   ]
  },
  {
   "cell_type": "code",
   "execution_count": 39,
   "metadata": {},
   "outputs": [
    {
     "data": {
      "text/plain": [
       "<347x451 sparse matrix of type '<class 'numpy.float64'>'\n",
       "\twith 609 stored elements in Compressed Sparse Row format>"
      ]
     },
     "execution_count": 39,
     "metadata": {},
     "output_type": "execute_result"
    }
   ],
   "source": [
    "from sklearn.feature_extraction.text import TfidfVectorizer\n",
    "\n",
    "tf = TfidfVectorizer(analyzer='word', ngram_range=(1,2), min_df=0, stop_words=stop_words)\n",
    "tfidf_matrix = tf.fit_transform(final_top3_df['author'])\n",
    "tfidf_matrix"
   ]
  },
  {
   "cell_type": "code",
   "execution_count": 40,
   "metadata": {},
   "outputs": [
    {
     "data": {
      "text/plain": [
       "array([[1., 0., 0., ..., 0., 0., 0.],\n",
       "       [0., 1., 0., ..., 0., 0., 0.],\n",
       "       [0., 0., 1., ..., 0., 0., 0.],\n",
       "       ...,\n",
       "       [0., 0., 0., ..., 1., 0., 0.],\n",
       "       [0., 0., 0., ..., 0., 1., 0.],\n",
       "       [0., 0., 0., ..., 0., 0., 1.]])"
      ]
     },
     "execution_count": 40,
     "metadata": {},
     "output_type": "execute_result"
    }
   ],
   "source": [
    "from sklearn.metrics.pairwise import linear_kernel\n",
    "\n",
    "cosine_sim = linear_kernel(tfidf_matrix, tfidf_matrix)\n",
    "cosine_sim"
   ]
  },
  {
   "cell_type": "code",
   "execution_count": 41,
   "metadata": {
    "slideshow": {
     "slide_type": "-"
    }
   },
   "outputs": [
    {
     "data": {
      "text/plain": [
       "340"
      ]
     },
     "execution_count": 41,
     "metadata": {},
     "output_type": "execute_result"
    }
   ],
   "source": [
    "titles = final_top3_df['title']\n",
    "indices = pd.Series(final_top3_df.index, index=final_top3_df['title'])\n",
    "indices['데미안']"
   ]
  },
  {
   "cell_type": "code",
   "execution_count": 42,
   "metadata": {},
   "outputs": [
    {
     "data": {
      "text/plain": [
       "array([0., 0., 0., 0., 0., 0., 0., 0., 0., 0., 0., 0., 0., 0., 0., 0., 0.,\n",
       "       0., 0., 0., 0., 0., 0., 0., 0., 0., 0., 0., 0., 0., 0., 0., 0., 0.,\n",
       "       0., 0., 0., 0., 0., 0., 0., 0., 0., 0., 0., 0., 0., 0., 0., 0., 0.,\n",
       "       0., 0., 0., 0., 0., 0., 0., 0., 0., 0., 0., 0., 0., 0., 0., 0., 0.,\n",
       "       0., 0., 0., 0., 0., 0., 0., 0., 0., 0., 0., 0., 0., 0., 0., 0., 0.,\n",
       "       0., 0., 0., 0., 0., 0., 0., 0., 0., 0., 0., 0., 0., 0., 0., 0., 0.,\n",
       "       0., 0., 0., 0., 0., 0., 0., 0., 0., 0., 0., 0., 0., 0., 0., 0., 0.,\n",
       "       0., 0., 0., 0., 0., 0., 0., 0., 0., 0., 0., 0., 0., 0., 0., 0., 0.,\n",
       "       0., 0., 0., 0., 0., 0., 0., 0., 0., 0., 0., 0., 0., 0., 0., 0., 0.,\n",
       "       0., 0., 0., 0., 0., 0., 0., 0., 0., 0., 0., 0., 0., 0., 0., 0., 0.,\n",
       "       0., 0., 0., 0., 0., 0., 0., 0., 0., 0., 0., 0., 0., 0., 0., 0., 0.,\n",
       "       0., 0., 0., 0., 0., 0., 0., 0., 0., 0., 0., 0., 0., 0., 0., 0., 0.,\n",
       "       0., 0., 0., 0., 0., 0., 0., 0., 0., 0., 0., 0., 0., 0., 0., 0., 0.,\n",
       "       0., 0., 0., 0., 0., 0., 0., 0., 0., 0., 0., 0., 0., 0., 0., 0., 1.,\n",
       "       0., 0., 0., 0., 0., 0., 0., 0., 0., 0., 0., 0., 0., 0., 0., 0., 0.,\n",
       "       0., 0., 0., 0., 0., 0., 0., 0., 0., 0., 0., 0., 0., 0., 0., 0., 0.,\n",
       "       0., 0., 0., 0., 0., 0., 0., 0., 0., 0., 0., 0., 0., 0., 0., 0., 0.,\n",
       "       0., 0., 0., 0., 0., 0., 0., 0., 0., 0., 0., 0., 0., 0., 0., 0., 0.,\n",
       "       0., 0., 0., 0., 0., 0., 0., 0., 0., 0., 0., 0., 0., 0., 0., 0., 0.,\n",
       "       0., 0., 0., 0., 0., 0., 0., 0., 0., 0., 0., 0., 0., 0., 0., 0., 0.,\n",
       "       1., 0., 0., 0., 0., 0., 0.])"
      ]
     },
     "execution_count": 42,
     "metadata": {},
     "output_type": "execute_result"
    }
   ],
   "source": [
    "cosine_sim[indices['데미안']]"
   ]
  },
  {
   "cell_type": "code",
   "execution_count": 43,
   "metadata": {},
   "outputs": [
    {
     "data": {
      "text/plain": [
       "(347,)"
      ]
     },
     "execution_count": 43,
     "metadata": {},
     "output_type": "execute_result"
    }
   ],
   "source": [
    "cosine_sim[indices['데미안']].shape"
   ]
  },
  {
   "cell_type": "code",
   "execution_count": 44,
   "metadata": {},
   "outputs": [
    {
     "data": {
      "text/plain": [
       "[(0, 0.0), (1, 0.0), (2, 0.0)]"
      ]
     },
     "execution_count": 44,
     "metadata": {},
     "output_type": "execute_result"
    }
   ],
   "source": [
    "list(enumerate(cosine_sim[indices['데미안']]))[:3]"
   ]
  },
  {
   "cell_type": "code",
   "execution_count": 45,
   "metadata": {},
   "outputs": [
    {
     "data": {
      "text/plain": [
       "[(237, 1.0), (340, 1.0), (0, 0.0)]"
      ]
     },
     "execution_count": 45,
     "metadata": {},
     "output_type": "execute_result"
    }
   ],
   "source": [
    "sim_scores = list(enumerate(cosine_sim[indices['데미안']]))\n",
    "sim_scores = sorted(sim_scores, key=lambda x: x[1], reverse=True)\n",
    "sim_scores[:3]"
   ]
  },
  {
   "cell_type": "code",
   "execution_count": 46,
   "metadata": {},
   "outputs": [
    {
     "data": {
      "text/plain": [
       "340                                       데미안\n",
       "0                               여자 둘이 살고 있습니다\n",
       "1                           꽃잎이 떨어져도 꽃은 지지 않네\n",
       "2                                   엉덩이로 이름쓰기\n",
       "3                                        피로사회\n",
       "4                 한국사능력검정시험 심화 1, 2, 3급(2020)\n",
       "5                                       어른의 일\n",
       "6                                    감정에 체한 밤\n",
       "7      달의 위로+마음이 마음에게+미안해 사랑해 고마워 리미티드 에디션 세트\n",
       "8                                    윤동주 전 시집\n",
       "Name: title, dtype: object"
      ]
     },
     "execution_count": 46,
     "metadata": {},
     "output_type": "execute_result"
    }
   ],
   "source": [
    "sim_scores = sim_scores[1:11]\n",
    "book_indices = [i[0] for i in sim_scores]\n",
    "titles.iloc[book_indices]"
   ]
  },
  {
   "cell_type": "code",
   "execution_count": 47,
   "metadata": {},
   "outputs": [
    {
     "data": {
      "text/plain": [
       "0    완벽한 싱글 라이프를 즐기던 두 여자, 김하나, 황선우. 4인 가족이 기준인 이 나...\n",
       "1    《꽃잎이 떨어져도 꽃은 지지 않네》는 2003년 4월, 길상사 요사채에서 가진 법정...\n",
       "2    책을 읽고 글을 쓴다.초등학교 방학 숙제로 첫 시집을 냈다.중학교 문예집에 수필 수...\n",
       "Name: corpus, dtype: object"
      ]
     },
     "execution_count": 47,
     "metadata": {},
     "output_type": "execute_result"
    }
   ],
   "source": [
    "final_top3_df['corpus'] = (pd.Series(final_top3_df[['summary', 'review']].fillna('').values.tolist()).str.join(' '))\n",
    "final_top3_df['corpus'][:3]"
   ]
  },
  {
   "cell_type": "code",
   "execution_count": 48,
   "metadata": {
    "slideshow": {
     "slide_type": "slide"
    }
   },
   "outputs": [],
   "source": [
    "from sklearn.feature_extraction.text import TfidfVectorizer\n",
    "\n",
    "tf_corpus = TfidfVectorizer(analyzer='word', ngram_range=(1,2), min_df=0, stop_words=stop_words)\n",
    "tfidf_matrix_corpus = tf_corpus.fit_transform(final_top3_df['corpus'])\n",
    "cosine_sim_corpus = linear_kernel(tfidf_matrix_corpus, tfidf_matrix_corpus)\n",
    "\n",
    "titles = final_top3_df[\"title\"]\n",
    "indices = pd.Series(final_top3_df.index, index=final_top3_df['title'])"
   ]
  },
  {
   "cell_type": "code",
   "execution_count": 49,
   "metadata": {
    "slideshow": {
     "slide_type": "slide"
    }
   },
   "outputs": [],
   "source": [
    "titles1 = final_top3_df['title']\n",
    "indices1 = pd.Series(final_top3_df.index,index=final_top3_df['title'])\n",
    "\n",
    "def corpus_recommendation(title):\n",
    "    idx = indices1[title]\n",
    "    sim_scores = list(enumerate(cosine_sim_corpus[idx]))\n",
    "    sim_scores = sorted(sim_scores, key=lambda x: x[1], reverse=True)\n",
    "    sim_scores = sim_scores[1:11]\n",
    "    book_indices = [i[0] for i in sim_scores]\n",
    "    return titles.iloc[book_indices]"
   ]
  },
  {
   "cell_type": "markdown",
   "metadata": {
    "slideshow": {
     "slide_type": "slide"
    }
   },
   "source": [
    "### 데미안 : \n",
    "- 성장 소설 위주로 추천"
   ]
  },
  {
   "cell_type": "code",
   "execution_count": 50,
   "metadata": {},
   "outputs": [
    {
     "data": {
      "text/plain": [
       "237        데미안(초판본)(리커버 한정판)\n",
       "242                      아몬드\n",
       "217                      이방인\n",
       "186                      비행운\n",
       "248                  노르웨이의 숲\n",
       "96                     여덟 단어\n",
       "274                       모모\n",
       "3                       피로사회\n",
       "24     스물아홉 생일 1년 후 죽기로 결심했다\n",
       "240                     동물농장\n",
       "Name: title, dtype: object"
      ]
     },
     "execution_count": 50,
     "metadata": {},
     "output_type": "execute_result"
    }
   ],
   "source": [
    "corpus_recommendation(\"데미안\")"
   ]
  },
  {
   "cell_type": "markdown",
   "metadata": {
    "slideshow": {
     "slide_type": "slide"
    }
   },
   "source": [
    "### 죽고 싶지만 떡볶이는 먹고 싶어 : \n",
    "- 일상에 지친 사람들이 자신의 중심을 찾아가는 에세이 위주로 추천"
   ]
  },
  {
   "cell_type": "code",
   "execution_count": 51,
   "metadata": {},
   "outputs": [
    {
     "data": {
      "text/plain": [
       "112    내가 죽으면 장례식에 누가 와줄까(너나들이 리커버 에디션)\n",
       "115                     지쳤거나 좋아하는 게 없거나\n",
       "128             이미 어쩔 수 없는 힘듦이 내게 찾아왔다면\n",
       "76          나는 어른이 되어서도 가끔 울었다(스페셜 에디션)\n",
       "78                  무례한 사람에게 웃으며 대처하는 법\n",
       "35                               너라는 계절\n",
       "281                              보통의 존재\n",
       "45                       아무것도 아닌 지금은 없다\n",
       "123            언어의 온도(3주년 150만부 기념 에디션)\n",
       "66                   이러지도 저러지도 못하는 당신에게\n",
       "Name: title, dtype: object"
      ]
     },
     "execution_count": 51,
     "metadata": {},
     "output_type": "execute_result"
    }
   ],
   "source": [
    "corpus_recommendation(\"죽고 싶지만 떡볶이는 먹고 싶어\")"
   ]
  },
  {
   "cell_type": "markdown",
   "metadata": {
    "slideshow": {
     "slide_type": "slide"
    }
   },
   "source": [
    "### 재혼 황후: \n",
    "- 네이버 웹소설 인기작인 재혼 황후 단행본 출판으로, 왕과 이혼하는 황후 이야기\n",
    "- 소설 위주로 추천하고, 이중 '한중록'이 들어간 것이 의외"
   ]
  },
  {
   "cell_type": "code",
   "execution_count": 52,
   "metadata": {},
   "outputs": [
    {
     "data": {
      "text/plain": [
       "328                  재혼 황후. 3(일반판)\n",
       "259                  재혼 황후. 1(일반판)\n",
       "238                       녹나무의 파수꾼\n",
       "170          지적 대화를 위한 넓고 얕은 지식. 2\n",
       "214                참을 수 없는 존재의 가벼움\n",
       "156                            한중록\n",
       "262                            아가미\n",
       "244                      목소리를 드릴게요\n",
       "76     나는 어른이 되어서도 가끔 울었다(스페셜 에디션)\n",
       "232                  사서함 110호의 우편물\n",
       "Name: title, dtype: object"
      ]
     },
     "execution_count": 52,
     "metadata": {},
     "output_type": "execute_result"
    }
   ],
   "source": [
    "corpus_recommendation(\"재혼 황후. 2(일반판)\")"
   ]
  },
  {
   "cell_type": "markdown",
   "metadata": {
    "slideshow": {
     "slide_type": "slide"
    }
   },
   "source": [
    "### 걷는 사람 하정우: \n",
    "- 배우 하정우가 걷기를 예찬하면 쓴 에세이\n",
    "- 주로 에세이 위주로 추천해주었고, 이중 똑같이 배우 박정민 에세이 모음집인 '쓸 만한 인간'이 추천돼 신뢰성이 높아짐"
   ]
  },
  {
   "cell_type": "code",
   "execution_count": 53,
   "metadata": {},
   "outputs": [
    {
     "data": {
      "text/plain": [
       "116                  나는 나로 살기로 했다\n",
       "245       신이 쉼표를 넣은 곳에 마침표를 찍지 말라\n",
       "43                  나 같은 사람 또 있을까\n",
       "124                     참 소중한 너라서\n",
       "117    너에게만 좋은 사람이 되고 싶어(리커버 한정판)\n",
       "184             내가 원하는 것을 나도 모를 때\n",
       "14                        쓸 만한 인간\n",
       "111                나에게 시간을 주기로 했다\n",
       "17      태도의 말들: 사소한 것이 언제나 더 중요하다\n",
       "284            타인의 시선을 의식해 힘든 나에게\n",
       "Name: title, dtype: object"
      ]
     },
     "execution_count": 53,
     "metadata": {},
     "output_type": "execute_result"
    }
   ],
   "source": [
    "corpus_recommendation(\"걷는 사람, 하정우\")"
   ]
  },
  {
   "cell_type": "markdown",
   "metadata": {
    "slideshow": {
     "slide_type": "slide"
    }
   },
   "source": [
    "### 빨강 머리 앤:\n",
    "- 소설을 각색한 긍정적인 멘트들을 편집한 책으로\n",
    "- 긍정적인 제목을 가진 에세이들로 추천을 해줌"
   ]
  },
  {
   "cell_type": "code",
   "execution_count": 54,
   "metadata": {},
   "outputs": [
    {
     "data": {
      "text/plain": [
       "203                             빨강 머리 앤\n",
       "345                       고요할수록 밝아지는 것들\n",
       "110                      실컷 울고나니 배고파졌어요\n",
       "124                           참 소중한 너라서\n",
       "184                   내가 원하는 것을 나도 모를 때\n",
       "52                    완벽하지 않은 것들에 대한 사랑\n",
       "83                            지금 이대로 좋다\n",
       "69                       참 좋은 당신을 만났습니다\n",
       "183    당신이 옳다(교보문고 단독 리커버)(찰스 장 아트 에디션)\n",
       "117          너에게만 좋은 사람이 되고 싶어(리커버 한정판)\n",
       "Name: title, dtype: object"
      ]
     },
     "execution_count": 54,
     "metadata": {},
     "output_type": "execute_result"
    }
   ],
   "source": [
    "corpus_recommendation(\"빨강 머리 앤, 행복은 내 안에 있어\")"
   ]
  },
  {
   "cell_type": "markdown",
   "metadata": {
    "slideshow": {
     "slide_type": "slide"
    }
   },
   "source": [
    "### 역사의 쓸모\n",
    "- 역사 와 관련 있는 서적들을 추천해줌, 4위부터는 인문서적 위주"
   ]
  },
  {
   "cell_type": "code",
   "execution_count": 55,
   "metadata": {},
   "outputs": [
    {
     "data": {
      "text/plain": [
       "99     한국사능력검정시험 기출500제 고급(1,2급)\n",
       "171              한국사능력검정시험 심화(상)\n",
       "172      한국사능력검정시험 심화(1,2,3급)(하)\n",
       "88                        열두 발자국\n",
       "184            내가 원하는 것을 나도 모를 때\n",
       "132                  유시민의 글쓰기 특강\n",
       "174                  설민석의 삼국지. 2\n",
       "176                  설민석의 삼국지. 1\n",
       "182                         사피엔스\n",
       "31                   상처 받지 않는 영혼\n",
       "Name: title, dtype: object"
      ]
     },
     "execution_count": 55,
     "metadata": {},
     "output_type": "execute_result"
    }
   ],
   "source": [
    "corpus_recommendation(\"역사의 쓸모(윈터 에디션)\")"
   ]
  },
  {
   "cell_type": "markdown",
   "metadata": {
    "slideshow": {
     "slide_type": "slide"
    }
   },
   "source": [
    "### 인간 실격\n",
    "- 독특하고 다소 기괴한 사고관을 보여준 일본 작가 다자이 오사무 작품\n",
    "- 일본 소설과 주로 어두운 내용의 책 추천"
   ]
  },
  {
   "cell_type": "code",
   "execution_count": 57,
   "metadata": {},
   "outputs": [
    {
     "data": {
      "text/plain": [
       "247                     용의자 X의 헌신\n",
       "255                        노인과 바다\n",
       "202                     가면산장 살인사건\n",
       "267    눈먼 자들의 도시(100쇄 기념 스페셜 에디션)\n",
       "217                           이방인\n",
       "241                           페스트\n",
       "164                  무엇이 인간을 만드는가\n",
       "240                          동물농장\n",
       "269                       잠옷을 입으렴\n",
       "197               차라투스트라는 이렇게 말했다\n",
       "Name: title, dtype: object"
      ]
     },
     "execution_count": 57,
     "metadata": {},
     "output_type": "execute_result"
    }
   ],
   "source": [
    "corpus_recommendation(\"인간 실격\")"
   ]
  },
  {
   "cell_type": "code",
   "execution_count": 58,
   "metadata": {},
   "outputs": [
    {
     "data": {
      "text/plain": [
       "127               밤은 이야기하기 좋은 시간이니까요\n",
       "232                    사서함 110호의 우편물\n",
       "243    날씨가 좋으면 찾아가겠어요(드라마 방영 기념 한정판)\n",
       "222                    소설 보다: 봄 2020\n",
       "128          이미 어쩔 수 없는 힘듦이 내게 찾아왔다면\n",
       "245          신이 쉼표를 넣은 곳에 마침표를 찍지 말라\n",
       "111                   나에게 시간을 주기로 했다\n",
       "35                            너라는 계절\n",
       "110                   실컷 울고나니 배고파졌어요\n",
       "209                       브람스를 좋아하세요\n",
       "Name: title, dtype: object"
      ]
     },
     "execution_count": 58,
     "metadata": {},
     "output_type": "execute_result"
    }
   ],
   "source": [
    "corpus_recommendation(\"잠옷을 입으렴\")"
   ]
  },
  {
   "cell_type": "code",
   "execution_count": 59,
   "metadata": {},
   "outputs": [
    {
     "data": {
      "text/plain": [
       "232                 사서함 110호의 우편물\n",
       "269                       잠옷을 입으렴\n",
       "127            밤은 이야기하기 좋은 시간이니까요\n",
       "203                       빨강 머리 앤\n",
       "52              완벽하지 않은 것들에 대한 사랑\n",
       "45                 아무것도 아닌 지금은 없다\n",
       "345                 고요할수록 밝아지는 것들\n",
       "117    너에게만 좋은 사람이 되고 싶어(리커버 한정판)\n",
       "223                그레구아르와 책방 할아버지\n",
       "337                      호밀밭의 파수꾼\n",
       "Name: title, dtype: object"
      ]
     },
     "execution_count": 59,
     "metadata": {},
     "output_type": "execute_result"
    }
   ],
   "source": [
    "corpus_recommendation(\"날씨가 좋으면 찾아가겠어요(드라마 방영 기념 한정판)\")"
   ]
  },
  {
   "cell_type": "markdown",
   "metadata": {
    "slideshow": {
     "slide_type": "slide"
    }
   },
   "source": [
    "### 햄릿\n",
    "- 셰익스피어의 4대 비극\n",
    "- 한국 역사의 비극이라고 할 수 있는 사도세자 이야기를 기록한 한중록이 추천된 점이 눈에 띔 \n",
    "- 아버지의 복수를 하기 위해 자신의 삼촌을 죽인 햄릿 vs. 자신의 아들을 뒤주에 갇혀 죽게 한 아버지"
   ]
  },
  {
   "cell_type": "code",
   "execution_count": 60,
   "metadata": {},
   "outputs": [
    {
     "data": {
      "text/plain": [
       "156                          한중록\n",
       "337                     호밀밭의 파수꾼\n",
       "234    세상의 주인(Lord Of The World)\n",
       "241                          페스트\n",
       "290                         동물농장\n",
       "158                       절제의 기술\n",
       "313                     백년을 살아보니\n",
       "226                       멋진 신세계\n",
       "92                    미움받을 용기. 2\n",
       "182                         사피엔스\n",
       "Name: title, dtype: object"
      ]
     },
     "execution_count": 60,
     "metadata": {},
     "output_type": "execute_result"
    }
   ],
   "source": [
    "corpus_recommendation(\"햄릿\")"
   ]
  },
  {
   "cell_type": "code",
   "execution_count": 61,
   "metadata": {},
   "outputs": [
    {
     "data": {
      "text/plain": [
       "164        무엇이 인간을 만드는가\n",
       "109              배움의 발견\n",
       "181               팩트풀니스\n",
       "74              평화의 어머니\n",
       "165    당신의 어린 시절이 울고 있다\n",
       "236       마음을 읽는 아이 오로르\n",
       "154      생각은 어떻게 글이 되는가\n",
       "167            정의란 무엇인가\n",
       "163            공부머리 독서법\n",
       "92           미움받을 용기. 2\n",
       "Name: title, dtype: object"
      ]
     },
     "execution_count": 61,
     "metadata": {},
     "output_type": "execute_result"
    }
   ],
   "source": [
    "corpus_recommendation(\"평균의 종말\")"
   ]
  },
  {
   "cell_type": "markdown",
   "metadata": {
    "slideshow": {
     "slide_type": "slide"
    }
   },
   "source": [
    "### 마음을 읽는 아이 오로르:\n",
    "- 자폐아 이야기를 그림책으로 표현한 책\n",
    "- 빨강 머리 앤, 어린 왕자와 같은 동화책이 추천"
   ]
  },
  {
   "cell_type": "code",
   "execution_count": 62,
   "metadata": {},
   "outputs": [
    {
     "data": {
      "text/plain": [
       "235                  우리가 빛의 속도로 갈 수 없다면\n",
       "286                갈매기에게 나는 법을 가르쳐준 고양이\n",
       "203                             빨강 머리 앤\n",
       "189                           어린왕자(초판본)\n",
       "316                              평균의 종말\n",
       "273                                 페인트\n",
       "298                             자기 앞의 생\n",
       "181                               팩트풀니스\n",
       "264                           키싱 마이 라이프\n",
       "183    당신이 옳다(교보문고 단독 리커버)(찰스 장 아트 에디션)\n",
       "Name: title, dtype: object"
      ]
     },
     "execution_count": 62,
     "metadata": {},
     "output_type": "execute_result"
    }
   ],
   "source": [
    "corpus_recommendation(\"마음을 읽는 아이 오로르\")"
   ]
  },
  {
   "cell_type": "code",
   "execution_count": null,
   "metadata": {},
   "outputs": [],
   "source": []
  },
  {
   "cell_type": "code",
   "execution_count": null,
   "metadata": {},
   "outputs": [],
   "source": []
  },
  {
   "cell_type": "markdown",
   "metadata": {},
   "source": [
    "### 프로이트의 의자:\n",
    "- 심리학 위주의 책이 추천"
   ]
  },
  {
   "cell_type": "code",
   "execution_count": 63,
   "metadata": {},
   "outputs": [
    {
     "data": {
      "text/plain": [
       "177    딸에게 보내는 심리학 편지(10만 부 기념 스페셜 에디션)\n",
       "88                               열두 발자국\n",
       "180                               명리심리학\n",
       "118                               마음의 결\n",
       "46                            존재만으로 빛나는\n",
       "327                            초역 니체의 말\n",
       "119                 곰돌이 푸, 행복한 일은 매일 있어\n",
       "134                           인간 본성의 법칙\n",
       "312                       나를 아프게 하지 않는다\n",
       "183    당신이 옳다(교보문고 단독 리커버)(찰스 장 아트 에디션)\n",
       "Name: title, dtype: object"
      ]
     },
     "execution_count": 63,
     "metadata": {},
     "output_type": "execute_result"
    }
   ],
   "source": [
    "corpus_recommendation(\"프로이트의 의자(10주년 기념 특별판)\")"
   ]
  },
  {
   "cell_type": "markdown",
   "metadata": {
    "slideshow": {
     "slide_type": "slide"
    }
   },
   "source": [
    "### 앞으로 도전할 사항\n",
    "- 책 소개 + 리뷰를 합친 텍스트 데이터(corpus)를 활용한 책 추천 시스템이 어느 정도 신뢰도를 보여줌\n",
    "- 텍스트 데이터를 활용해 책 + 다른 산업 제품을 추천해주는 다양한 추천 시스템 개발"
   ]
  },
  {
   "cell_type": "code",
   "execution_count": null,
   "metadata": {},
   "outputs": [],
   "source": []
  }
 ],
 "metadata": {
  "celltoolbar": "Slideshow",
  "kernelspec": {
   "display_name": "Python 3",
   "language": "python",
   "name": "python3"
  },
  "language_info": {
   "codemirror_mode": {
    "name": "ipython",
    "version": 3
   },
   "file_extension": ".py",
   "mimetype": "text/x-python",
   "name": "python",
   "nbconvert_exporter": "python",
   "pygments_lexer": "ipython3",
   "version": "3.7.4"
  }
 },
 "nbformat": 4,
 "nbformat_minor": 4
}
